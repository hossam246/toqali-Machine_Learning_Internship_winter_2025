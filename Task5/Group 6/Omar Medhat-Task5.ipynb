{
 "cells": [
  {
   "cell_type": "code",
   "execution_count": 1,
   "metadata": {},
   "outputs": [],
   "source": [
    "import pandas as pd\n",
    "import numpy as np\n",
    "from joblib import Parallel, delayed\n",
    "from sklearn.model_selection import train_test_split, RandomizedSearchCV\n",
    "from sklearn.preprocessing import LabelEncoder, StandardScaler\n",
    "from sklearn.ensemble import RandomForestRegressor, GradientBoostingRegressor\n",
    "from sklearn.linear_model import LinearRegression\n",
    "from sklearn.svm import SVR\n",
    "from sklearn.metrics import mean_squared_error, r2_score\n",
    "import xgboost as xgb\n",
    "import catboost as cb\n",
    "from sklearn.linear_model import SGDRegressor\n"
   ]
  },
  {
   "cell_type": "code",
   "execution_count": 2,
   "metadata": {},
   "outputs": [],
   "source": [
    "# Load dataset\n",
    "df = pd.read_csv(\"/Users/omarmedhat/Documents/Cellula ML/Week 5/Task/final_internship_data.csv\")\n"
   ]
  },
  {
   "cell_type": "code",
   "execution_count": 3,
   "metadata": {},
   "outputs": [],
   "source": [
    "df_sampled = df.sample(n=100000, random_state=42)  # Use only 100K rows\n"
   ]
  },
  {
   "cell_type": "code",
   "execution_count": 4,
   "metadata": {},
   "outputs": [],
   "source": [
    "# Step 1: Data Preprocessing\n",
    "# Drop irrelevant columns\n",
    "irrelevant_columns = [\"User ID\", \"User Name\", \"Driver Name\", \"key\", \"pickup_datetime\", \"Cluster\"]\n",
    "df = df.drop(columns=irrelevant_columns, errors='ignore')\n"
   ]
  },
  {
   "cell_type": "code",
   "execution_count": 5,
   "metadata": {},
   "outputs": [],
   "source": [
    "# Remove unreasonable fare amounts\n",
    "df = df[(df[\"fare_amount\"] > 0) & (df[\"fare_amount\"] < 10000)]\n"
   ]
  },
  {
   "cell_type": "code",
   "execution_count": 6,
   "metadata": {},
   "outputs": [],
   "source": [
    "# Handle missing values\n",
    "for col in df.select_dtypes(include=[\"float64\", \"int64\"]).columns:\n",
    "    df[col] = df[col].fillna(df[col].median())  # Fix inplace warning\n",
    "\n",
    "for col in df.select_dtypes(include=[\"object\"]).columns:\n",
    "    df[col] = df[col].fillna(\"Unknown\")  # Fix inplace warning"
   ]
  },
  {
   "cell_type": "code",
   "execution_count": 7,
   "metadata": {},
   "outputs": [],
   "source": [
    "# Encode categorical variables\n",
    "label_encoders = {}\n",
    "categorical_cols = df.select_dtypes(include=[\"object\"]).columns.tolist()\n",
    "for col in categorical_cols:\n",
    "    le = LabelEncoder()\n",
    "    df[col] = le.fit_transform(df[col])\n",
    "    label_encoders[col] = le"
   ]
  },
  {
   "cell_type": "code",
   "execution_count": 8,
   "metadata": {},
   "outputs": [],
   "source": [
    "# Feature Scaling\n",
    "scaler = StandardScaler()\n",
    "X = df.drop(columns=[\"fare_amount\"])\n",
    "y = df[\"fare_amount\"]\n",
    "X_scaled = scaler.fit_transform(X)\n"
   ]
  },
  {
   "cell_type": "code",
   "execution_count": 9,
   "metadata": {},
   "outputs": [],
   "source": [
    "# Split data\n",
    "X_train, X_test, y_train, y_test = train_test_split(X_scaled, y, test_size=0.2, random_state=42)\n"
   ]
  },
  {
   "cell_type": "code",
   "execution_count": 10,
   "metadata": {},
   "outputs": [],
   "source": [
    "# Define models\n",
    "\n",
    "models = {\n",
    "    \"Linear Regression\": LinearRegression(),\n",
    "    \"Random Forest\": RandomForestRegressor(n_estimators=50, max_depth=10, n_jobs=-1, random_state=42),  # Reduced complexity\n",
    "    \"Gradient Boosting\": GradientBoostingRegressor(n_estimators=50, max_depth=5, random_state=42),  # Reduced complexity\n",
    "    \"XGBoost\": xgb.XGBRegressor(n_estimators=50, max_depth=5, tree_method='hist', verbosity=0, random_state=42),  # Faster training\n",
    "    \"CatBoost\": cb.CatBoostRegressor(n_estimators=50, depth=5, verbose=0, random_state=42),  # Reduced logging\n",
    "    \"SGD Regressor\":  SGDRegressor(max_iter=1000, tol=1e-3, random_state=42)\n",
    "}"
   ]
  },
  {
   "cell_type": "code",
   "execution_count": 11,
   "metadata": {},
   "outputs": [
    {
     "name": "stdout",
     "output_type": "stream",
     "text": [
      "Training Linear Regression...\n",
      "Linear Regression R² Score: 33.84% | RMSE: 8.25\n",
      "Training Random Forest...\n"
     ]
    },
    {
     "name": "stderr",
     "output_type": "stream",
     "text": [
      "/opt/anaconda3/envs/GPU/lib/python3.9/site-packages/sklearn/metrics/_regression.py:483: FutureWarning: 'squared' is deprecated in version 1.4 and will be removed in 1.6. To calculate the root mean squared error, use the function'root_mean_squared_error'.\n",
      "  warnings.warn(\n",
      "/opt/anaconda3/envs/GPU/lib/python3.9/site-packages/sklearn/metrics/_regression.py:483: FutureWarning: 'squared' is deprecated in version 1.4 and will be removed in 1.6. To calculate the root mean squared error, use the function'root_mean_squared_error'.\n",
      "  warnings.warn(\n"
     ]
    },
    {
     "name": "stdout",
     "output_type": "stream",
     "text": [
      "Random Forest R² Score: 76.24% | RMSE: 4.94\n",
      "Training Gradient Boosting...\n"
     ]
    },
    {
     "name": "stderr",
     "output_type": "stream",
     "text": [
      "/opt/anaconda3/envs/GPU/lib/python3.9/site-packages/sklearn/metrics/_regression.py:483: FutureWarning: 'squared' is deprecated in version 1.4 and will be removed in 1.6. To calculate the root mean squared error, use the function'root_mean_squared_error'.\n",
      "  warnings.warn(\n"
     ]
    },
    {
     "name": "stdout",
     "output_type": "stream",
     "text": [
      "Gradient Boosting R² Score: 76.26% | RMSE: 4.94\n",
      "Training XGBoost...\n"
     ]
    },
    {
     "name": "stderr",
     "output_type": "stream",
     "text": [
      "/opt/anaconda3/envs/GPU/lib/python3.9/site-packages/sklearn/metrics/_regression.py:483: FutureWarning: 'squared' is deprecated in version 1.4 and will be removed in 1.6. To calculate the root mean squared error, use the function'root_mean_squared_error'.\n",
      "  warnings.warn(\n"
     ]
    },
    {
     "name": "stdout",
     "output_type": "stream",
     "text": [
      "XGBoost R² Score: 77.04% | RMSE: 4.86\n",
      "Training CatBoost...\n"
     ]
    },
    {
     "name": "stderr",
     "output_type": "stream",
     "text": [
      "/opt/anaconda3/envs/GPU/lib/python3.9/site-packages/sklearn/metrics/_regression.py:483: FutureWarning: 'squared' is deprecated in version 1.4 and will be removed in 1.6. To calculate the root mean squared error, use the function'root_mean_squared_error'.\n",
      "  warnings.warn(\n"
     ]
    },
    {
     "name": "stdout",
     "output_type": "stream",
     "text": [
      "CatBoost R² Score: 76.93% | RMSE: 4.87\n",
      "Training SGD Regressor...\n",
      "SGD Regressor R² Score: -15069880476.49% | RMSE: 124446.22\n",
      "Final Results: {'Linear Regression': ('Linear Regression', (33.83876218010128, 8.245720887022326)), 'Random Forest': ('Random Forest', (76.24076591387318, 4.941320655693121)), 'Gradient Boosting': ('Gradient Boosting', (76.26123927527685, 4.939191225800297)), 'XGBoost': ('XGBoost', (77.04033410698689, 4.857464117601402)), 'CatBoost': ('CatBoost', (76.92808563828203, 4.86932356974666)), 'SGD Regressor': ('SGD Regressor', (-15069880476.492352, 124446.22425635459))}\n"
     ]
    },
    {
     "name": "stderr",
     "output_type": "stream",
     "text": [
      "/opt/anaconda3/envs/GPU/lib/python3.9/site-packages/sklearn/metrics/_regression.py:483: FutureWarning: 'squared' is deprecated in version 1.4 and will be removed in 1.6. To calculate the root mean squared error, use the function'root_mean_squared_error'.\n",
      "  warnings.warn(\n"
     ]
    }
   ],
   "source": [
    "def train_and_evaluate(name, model):\n",
    "    print(f\"Training {name}...\")\n",
    "    model.fit(X_train, y_train.copy())  # Ensure writable y_train\n",
    "    y_pred = model.predict(X_test)\n",
    "    r2 = r2_score(y_test, y_pred) * 100\n",
    "    rmse = mean_squared_error(y_test, y_pred, squared=False)\n",
    "    print(f\"{name} R² Score: {r2:.2f}% | RMSE: {rmse:.2f}\")\n",
    "    return name, (r2, rmse)\n",
    "\n",
    "results = {}\n",
    "for name, model in models.items():\n",
    "    results[name] = train_and_evaluate(name, model)\n",
    "\n",
    "print(\"Final Results:\", results)  # Check if results are being stored"
   ]
  },
  {
   "cell_type": "code",
   "execution_count": 12,
   "metadata": {},
   "outputs": [
    {
     "name": "stdout",
     "output_type": "stream",
     "text": [
      "Best Model: XGBoost\n"
     ]
    }
   ],
   "source": [
    "# Find the best model based on the highest R² score\n",
    "best_model_name = max(results, key=lambda k: results[k][0])  # Select model with highest R²\n",
    "print(f\"Best Model: {best_model_name}\")\n"
   ]
  },
  {
   "cell_type": "code",
   "execution_count": 13,
   "metadata": {},
   "outputs": [
    {
     "name": "stdout",
     "output_type": "stream",
     "text": [
      "Best Hyperparameters for XGBoost: {'subsample': 1.0, 'n_estimators': 200, 'max_depth': 10, 'learning_rate': 0.05, 'colsample_bytree': 0.8}\n",
      "Best Tuned R² Score: 79.63%\n"
     ]
    }
   ],
   "source": [
    "# Step 4: Hyperparameter Tuning (Only for Best Model)\n",
    "if best_model_name in [\"XGBoost\", \"Random Forest\", \"CatBoost\"]:\n",
    "    param_dist = {\n",
    "        'n_estimators': [50, 100, 200],  # Reduced values for speed\n",
    "        'learning_rate': [0.01, 0.03, 0.05],\n",
    "        'max_depth': [5, 10, 15],  # Reduced depth to avoid overfitting\n",
    "        'subsample': [0.6, 0.8, 1.0],  # Use a fraction of the data per tree\n",
    "        'colsample_bytree': [0.6, 0.8, 1.0]  # Use a fraction of features per tree\n",
    "    }\n",
    "\n",
    "    best_model = models[best_model_name]\n",
    "    random_search = RandomizedSearchCV(\n",
    "        best_model, \n",
    "        param_distributions=param_dist, \n",
    "        n_iter=5,  # Keep this small to reduce training time\n",
    "        cv=2,  # Reduce cross-validation folds\n",
    "        scoring='r2', \n",
    "        n_jobs=-1,\n",
    "        random_state=42  # Ensures reproducibility\n",
    "    )\n",
    "\n",
    "    random_search.fit(X_train, y_train)\n",
    "\n",
    "    best_params = random_search.best_params_\n",
    "    best_tuned_r2 = random_search.best_score_ * 100  # Convert to percentage\n",
    "    print(f\"Best Hyperparameters for {best_model_name}: {best_params}\")\n",
    "    print(f\"Best Tuned R² Score: {best_tuned_r2:.2f}%\")\n"
   ]
  },
  {
   "cell_type": "code",
   "execution_count": 14,
   "metadata": {},
   "outputs": [
    {
     "name": "stdout",
     "output_type": "stream",
     "text": [
      "Final Best Model: XGBoost with Tuned R² Score: 79.63%\n"
     ]
    }
   ],
   "source": [
    "# Step 5: Final Model Selection\n",
    "print(f\"Final Best Model: {best_model_name} with Tuned R² Score: {best_tuned_r2:.2f}%\")\n"
   ]
  },
  {
   "cell_type": "code",
   "execution_count": null,
   "metadata": {},
   "outputs": [],
   "source": []
  }
 ],
 "metadata": {
  "kernelspec": {
   "display_name": "GPU",
   "language": "python",
   "name": "python3"
  },
  "language_info": {
   "codemirror_mode": {
    "name": "ipython",
    "version": 3
   },
   "file_extension": ".py",
   "mimetype": "text/x-python",
   "name": "python",
   "nbconvert_exporter": "python",
   "pygments_lexer": "ipython3",
   "version": "3.9.19"
  }
 },
 "nbformat": 4,
 "nbformat_minor": 2
}
