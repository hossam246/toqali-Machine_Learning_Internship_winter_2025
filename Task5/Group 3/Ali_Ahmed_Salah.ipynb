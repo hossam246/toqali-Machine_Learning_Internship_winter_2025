{
 "cells": [
  {
   "cell_type": "code",
   "execution_count": 1,
   "metadata": {},
   "outputs": [],
   "source": [
    "# Importing the dpendancies\n",
    "\n",
    "import numpy as np\n",
    "import pandas as pd\n",
    "from statsmodels.stats.outliers_influence import variance_inflation_factor\n",
    "import pickle\n",
    "from cuml.model_selection import GridSearchCV\n",
    "\n",
    "%matplotlib inline\n"
   ]
  },
  {
   "cell_type": "code",
   "execution_count": 2,
   "metadata": {},
   "outputs": [],
   "source": [
    "# Read the data \n",
    "\n",
    "data = pd.read_csv('/home/ali/Cellula/Task_5/final_internship_data.csv')"
   ]
  },
  {
   "cell_type": "code",
   "execution_count": 3,
   "metadata": {},
   "outputs": [
    {
     "data": {
      "text/plain": [
       "(500000, 26)"
      ]
     },
     "execution_count": 3,
     "metadata": {},
     "output_type": "execute_result"
    }
   ],
   "source": [
    "# Check data shape\n",
    "\n",
    "data.shape"
   ]
  },
  {
   "cell_type": "code",
   "execution_count": 4,
   "metadata": {},
   "outputs": [
    {
     "name": "stdout",
     "output_type": "stream",
     "text": [
      "0\n"
     ]
    }
   ],
   "source": [
    "# Checking for duplicate data and dropping them\n",
    "\n",
    "print(sum(data.duplicated()))\n",
    "data.drop_duplicates(inplace = True)"
   ]
  },
  {
   "cell_type": "code",
   "execution_count": 5,
   "metadata": {},
   "outputs": [],
   "source": [
    "# Dropping coasting features \n",
    "\n",
    "data.drop(columns = ['User ID', 'User Name', 'Driver Name', 'key', 'pickup_datetime'], axis = 1 , inplace = True)"
   ]
  },
  {
   "cell_type": "code",
   "execution_count": 6,
   "metadata": {},
   "outputs": [],
   "source": [
    "# Function to count the total number of negative values in a specified features\n",
    "\n",
    "def count_negative_values(df, column_name):\n",
    "\n",
    "    if column_name in df.columns:\n",
    "        return (df[column_name] < 0).sum()\n",
    "    else:\n",
    "        raise ValueError(f\"Column '{column_name}' not found in the DataFrame.\")\n"
   ]
  },
  {
   "cell_type": "code",
   "execution_count": 7,
   "metadata": {},
   "outputs": [
    {
     "name": "stdout",
     "output_type": "stream",
     "text": [
      "the total number of negative values in feature fare_amount is : 21 \n",
      "the total number of negative values in feature distance is : 0 \n"
     ]
    }
   ],
   "source": [
    "# Check for negative values in specific features\n",
    "\n",
    "features = ['fare_amount', 'distance']\n",
    "\n",
    "for feature in features :\n",
    "    negative_count = count_negative_values(data, feature)\n",
    "    print('the total number of negative values in feature {} is : {} '.format(feature, negative_count))\n"
   ]
  },
  {
   "cell_type": "code",
   "execution_count": 8,
   "metadata": {},
   "outputs": [],
   "source": [
    "# Drop negative values\n",
    "\n",
    "data.drop(data[data['fare_amount'] < 0].index, inplace=True)"
   ]
  },
  {
   "cell_type": "code",
   "execution_count": 9,
   "metadata": {},
   "outputs": [
    {
     "name": "stdout",
     "output_type": "stream",
     "text": [
      "Car Condition\n",
      "Very Good    125310\n",
      "Bad          124968\n",
      "Good         124962\n",
      "Excellent    124739\n",
      "Name: count, dtype: int64\n",
      "\n",
      "\n",
      "Weather\n",
      "sunny     100426\n",
      "cloudy    100058\n",
      "rainy      99970\n",
      "stormy     99950\n",
      "windy      99575\n",
      "Name: count, dtype: int64\n",
      "\n",
      "\n",
      "Traffic Condition\n",
      "Congested Traffic    166840\n",
      "Dense Traffic        166580\n",
      "Flow Traffic         166559\n",
      "Name: count, dtype: int64\n",
      "\n",
      "\n",
      "passenger_count\n",
      "1    345994\n",
      "2     73907\n",
      "5     35321\n",
      "3     21759\n",
      "4     10613\n",
      "6     10589\n",
      "0      1796\n",
      "Name: count, dtype: int64\n",
      "\n",
      "\n",
      "hour\n",
      "19    31381\n",
      "18    30064\n",
      "20    29193\n",
      "21    28639\n",
      "22    27816\n",
      "14    25384\n",
      "23    24862\n",
      "12    24650\n",
      "17    24646\n",
      "13    24403\n",
      "15    24024\n",
      "9     23565\n",
      "11    23338\n",
      "8     22598\n",
      "10    22426\n",
      "16    20569\n",
      "0     19648\n",
      "7     18230\n",
      "1     14553\n",
      "2     10883\n",
      "6     10326\n",
      "3      7936\n",
      "4      5864\n",
      "5      4981\n",
      "Name: count, dtype: int64\n",
      "\n",
      "\n",
      "day\n",
      "13    17244\n",
      "12    17172\n",
      "16    17088\n",
      "11    17039\n",
      "9     16961\n",
      "15    16957\n",
      "20    16909\n",
      "18    16905\n",
      "19    16887\n",
      "17    16882\n",
      "21    16872\n",
      "8     16807\n",
      "14    16794\n",
      "10    16761\n",
      "23    16714\n",
      "22    16705\n",
      "7     16641\n",
      "6     16451\n",
      "24    16240\n",
      "5     16045\n",
      "3     15863\n",
      "28    15854\n",
      "4     15767\n",
      "2     15713\n",
      "1     15573\n",
      "26    15455\n",
      "25    15450\n",
      "27    15387\n",
      "29    14913\n",
      "30    14677\n",
      "31     9253\n",
      "Name: count, dtype: int64\n",
      "\n",
      "\n",
      "month\n",
      "5     46732\n",
      "3     46707\n",
      "4     45957\n",
      "6     44825\n",
      "1     44546\n",
      "2     42449\n",
      "10    40551\n",
      "12    38479\n",
      "7     38127\n",
      "9     37980\n",
      "11    37757\n",
      "8     35869\n",
      "Name: count, dtype: int64\n",
      "\n",
      "\n",
      "weekday\n",
      "4    77219\n",
      "5    76208\n",
      "3    74777\n",
      "2    72228\n",
      "1    69929\n",
      "6    65382\n",
      "0    64236\n",
      "Name: count, dtype: int64\n",
      "\n",
      "\n",
      "year\n",
      "2012    80225\n",
      "2011    79529\n",
      "2013    78032\n",
      "2009    77002\n",
      "2010    75785\n",
      "2014    74608\n",
      "2015    34798\n",
      "Name: count, dtype: int64\n",
      "\n",
      "\n"
     ]
    }
   ],
   "source": [
    "# Illustration for categorical features\n",
    "\n",
    "features = ['Car Condition', 'Weather', 'Traffic Condition', 'passenger_count', 'hour', 'day', 'month', 'weekday', 'year']\n",
    "\n",
    "for feature in features :\n",
    "    print(data[feature].value_counts())\n",
    "    print(\"\\n\")"
   ]
  },
  {
   "cell_type": "code",
   "execution_count": 10,
   "metadata": {},
   "outputs": [],
   "source": [
    "# Label encode categorical features\n",
    "\n",
    "custom_mapping_car = {'Very Good': 2, 'Bad': 0, 'Good': 1, 'Excellent': 3}\n",
    "data['Car Condition']= data['Car Condition'].map(custom_mapping_car)\n",
    "\n",
    "custom_mapping_weather = {'sunny': 4, 'cloudy': 3, 'rainy': 1, 'stormy': 0, 'windy': 2}\n",
    "data['Weather']= data['Weather'].map(custom_mapping_weather)\n",
    "\n",
    "custom_mapping_traffic = {'Congested Traffic': 0, 'Dense Traffic': 1, 'Flow Traffic': 2}\n",
    "data['Traffic Condition']= data['Traffic Condition'].map(custom_mapping_traffic)"
   ]
  },
  {
   "cell_type": "code",
   "execution_count": 11,
   "metadata": {},
   "outputs": [
    {
     "name": "stdout",
     "output_type": "stream",
     "text": [
      "Car Condition        0\n",
      "Weather              0\n",
      "Traffic Condition    0\n",
      "fare_amount          0\n",
      "pickup_longitude     0\n",
      "pickup_latitude      0\n",
      "dropoff_longitude    5\n",
      "dropoff_latitude     5\n",
      "passenger_count      0\n",
      "hour                 0\n",
      "day                  0\n",
      "month                0\n",
      "weekday              0\n",
      "year                 0\n",
      "jfk_dist             5\n",
      "ewr_dist             5\n",
      "lga_dist             5\n",
      "sol_dist             5\n",
      "nyc_dist             5\n",
      "distance             5\n",
      "bearing              5\n",
      "dtype: int64\n"
     ]
    }
   ],
   "source": [
    "# Checking if any data is missing\n",
    "\n",
    "print(data.isnull().sum())"
   ]
  },
  {
   "cell_type": "code",
   "execution_count": 12,
   "metadata": {},
   "outputs": [
    {
     "data": {
      "text/plain": [
       "(499974, 21)"
      ]
     },
     "execution_count": 12,
     "metadata": {},
     "output_type": "execute_result"
    }
   ],
   "source": [
    "# Dropping missing data\n",
    "\n",
    "data = data.dropna()\n",
    "data.shape"
   ]
  },
  {
   "cell_type": "code",
   "execution_count": 13,
   "metadata": {},
   "outputs": [],
   "source": [
    "# Function to detect outliers\n",
    "\n",
    "def detect_outliers(df, column_name):\n",
    "    # Calculate Q1 (25th percentile) and Q3 (75th percentile)\n",
    "    Q1 = df[column_name].quantile(0.25)\n",
    "    Q3 = df[column_name].quantile(0.75)\n",
    "    # Calculate the IQR (Interquartile Range)\n",
    "    IQR = Q3 - Q1\n",
    "    # Define the lower and upper bounds for the data\n",
    "    lower_bound = Q1 - 1.5 * IQR\n",
    "    upper_bound = Q3 + 1.5 * IQR\n",
    "    no_of_outliers = sum((df[column_name] < lower_bound) | (df[column_name] > upper_bound))\n",
    "    return no_of_outliers"
   ]
  },
  {
   "cell_type": "code",
   "execution_count": 14,
   "metadata": {},
   "outputs": [
    {
     "name": "stdout",
     "output_type": "stream",
     "text": [
      "Number of outliers in column bearing is : 0\n",
      "Number of outliers in column fare_amount is : 43320\n",
      "Number of outliers in column distance is : 41923\n"
     ]
    }
   ],
   "source": [
    "# Detect outliers in specific features\n",
    "\n",
    "features_outlier = ['bearing', 'fare_amount', 'distance']\n",
    "\n",
    "for feature in features_outlier:\n",
    "    print('Number of outliers in column {} is : {}'.format(feature, detect_outliers(data, feature)))"
   ]
  },
  {
   "cell_type": "code",
   "execution_count": 15,
   "metadata": {},
   "outputs": [],
   "source": [
    "# Handleing outliers with log transformation\n",
    "\n",
    "data['fare_amount'] = data['fare_amount'].apply(lambda x: np.log(x) if x > 0 else 0)\n",
    "data['distance'] = data['distance'].apply(lambda x: np.log(x) if x > 0 else 0)"
   ]
  },
  {
   "cell_type": "code",
   "execution_count": 16,
   "metadata": {},
   "outputs": [
    {
     "name": "stdout",
     "output_type": "stream",
     "text": [
      "              feature           VIF\n",
      "0       Car Condition  2.800872e+00\n",
      "1             Weather  3.001101e+00\n",
      "2   Traffic Condition  2.498053e+00\n",
      "3    pickup_longitude  2.296457e+02\n",
      "4     pickup_latitude  6.661436e+01\n",
      "5   dropoff_longitude  3.660448e+02\n",
      "6    dropoff_latitude  2.564213e+02\n",
      "7     passenger_count  2.663447e+00\n",
      "8                hour  5.363515e+00\n",
      "9                 day  4.265869e+00\n",
      "10              month  4.325949e+00\n",
      "11            weekday  3.477150e+00\n",
      "12               year  1.949899e+03\n",
      "13           jfk_dist  4.012931e+05\n",
      "14           ewr_dist  3.706869e+06\n",
      "15           lga_dist  4.323959e+05\n",
      "16           sol_dist  2.056432e+07\n",
      "17           nyc_dist  1.079054e+07\n",
      "18           distance  1.825787e+00\n",
      "19            bearing  1.039413e+00\n"
     ]
    }
   ],
   "source": [
    "# Function to calculate VIF\n",
    "\n",
    "from statsmodels.stats.outliers_influence import variance_inflation_factor\n",
    "\n",
    "def calculate_vif(df):\n",
    "    # Keep only numeric features\n",
    "    numeric_df = df.select_dtypes(include=[float, int])\n",
    "    vif_data = pd.DataFrame()\n",
    "    vif_data['feature'] = numeric_df.columns\n",
    "    vif_data['VIF'] = [variance_inflation_factor(numeric_df.values, i) for i in range(numeric_df.shape[1])]\n",
    "    return vif_data\n",
    "\n",
    "vif_df = calculate_vif(data.drop(columns = ['fare_amount'], axis = 1))\n",
    "print(vif_df)\n"
   ]
  },
  {
   "cell_type": "code",
   "execution_count": 17,
   "metadata": {},
   "outputs": [],
   "source": [
    "# Using PCA to handle multicollinearty problem\n",
    "\n",
    "from sklearn.decomposition import PCA\n",
    "\n",
    "data_pca_1 = data[['pickup_longitude', 'pickup_latitude', 'dropoff_longitude', 'dropoff_latitude', 'jfk_dist', 'ewr_dist', 'lga_dist', 'sol_dist', 'nyc_dist']]\n",
    "data_pca_2 = data[['hour', 'year']]\n",
    "pca_1 = PCA(n_components = 3)\n",
    "pca_2 = PCA(n_components = 1)\n",
    "pc_1 = pca_1.fit_transform(data_pca_1)\n",
    "pc_2 = pca_2.fit_transform(data_pca_2)\n",
    "data['PC1'] = pc_1[:, 0]\n",
    "data['PC2'] = pc_1[:, 1]\n",
    "data['PC3'] = pc_1[:, 2]\n",
    "data['PC4'] = pc_2"
   ]
  },
  {
   "cell_type": "code",
   "execution_count": 18,
   "metadata": {},
   "outputs": [],
   "source": [
    "# Dropping multicollinearity features \n",
    "\n",
    "data.drop(columns = ['hour', 'year', 'pickup_longitude', 'pickup_latitude', 'dropoff_longitude', 'dropoff_latitude', 'jfk_dist', 'ewr_dist', 'lga_dist', 'sol_dist', 'nyc_dist'], axis = 1 , inplace = True)"
   ]
  },
  {
   "cell_type": "code",
   "execution_count": 19,
   "metadata": {},
   "outputs": [
    {
     "name": "stdout",
     "output_type": "stream",
     "text": [
      "              feature       VIF\n",
      "0       Car Condition  2.515622\n",
      "1             Weather  2.655361\n",
      "2   Traffic Condition  2.282892\n",
      "3     passenger_count  2.444469\n",
      "4                 day  3.459230\n",
      "5               month  3.482173\n",
      "6             weekday  3.023135\n",
      "7            distance  1.711284\n",
      "8             bearing  1.036869\n",
      "9                 PC1  1.003020\n",
      "10                PC2  1.052008\n",
      "11                PC3  1.043300\n",
      "12                PC4  1.009154\n"
     ]
    }
   ],
   "source": [
    "# Calculate VIF again\n",
    "\n",
    "vif_df = calculate_vif(data.drop(columns = ['fare_amount'], axis = 1))\n",
    "print(vif_df)"
   ]
  },
  {
   "cell_type": "code",
   "execution_count": 20,
   "metadata": {},
   "outputs": [],
   "source": [
    "# Forming the data\n",
    "\n",
    "X = data.drop(columns = ['fare_amount'], axis = 1)\n",
    "Y = data['fare_amount']"
   ]
  },
  {
   "cell_type": "code",
   "execution_count": 21,
   "metadata": {},
   "outputs": [],
   "source": [
    "# Forming train and test data\n",
    "\n",
    "from sklearn.model_selection import train_test_split\n",
    "\n",
    "X_train, X_test, Y_train, Y_test = train_test_split(X, Y, test_size = 0.2, random_state = 42)"
   ]
  },
  {
   "cell_type": "code",
   "execution_count": 22,
   "metadata": {},
   "outputs": [],
   "source": [
    "# Data Standrization\n",
    "\n",
    "from sklearn.preprocessing import StandardScaler\n",
    "\n",
    "scaler = StandardScaler()\n",
    "scaler.fit(X_train)\n",
    "X_train = scaler.transform(X_train)\n",
    "X_test = scaler.transform(X_test)"
   ]
  },
  {
   "cell_type": "code",
   "execution_count": 23,
   "metadata": {},
   "outputs": [],
   "source": [
    "# Makeing data suitable for GPU \n",
    "\n",
    "import cupy as cp\n",
    "\n",
    "X_train_gpu = cp.asarray(X_train)\n",
    "Y_train_gpu = cp.asarray(Y_train)\n",
    "X_test_gpu = cp.asarray(X_test)\n",
    "Y_test_gpu = cp.asarray(Y_test)"
   ]
  },
  {
   "cell_type": "code",
   "execution_count": 24,
   "metadata": {},
   "outputs": [],
   "source": [
    "# Importing evaluation metrics\n",
    "\n",
    "from cuml.metrics import r2_score\n",
    "from cuml.metrics import mean_absolute_error\n",
    "from cuml.metrics import mean_squared_error\n",
    "\n",
    "def gpu_r2_scorer(estimator, X_test, y_test):\n",
    "    y_pred = estimator.predict(X_test)\n",
    "    return r2_score(y_test, y_pred)"
   ]
  },
  {
   "cell_type": "code",
   "execution_count": null,
   "metadata": {},
   "outputs": [
    {
     "name": "stdout",
     "output_type": "stream",
     "text": [
      "Fitting 5 folds for each of 20 candidates, totalling 100 fits\n"
     ]
    }
   ],
   "source": [
    "# KNN model\n",
    "\n",
    "from cuml.neighbors import KNeighborsRegressor\n",
    "\n",
    "class KNeighborsRegressorWrapper(KNeighborsRegressor):\n",
    "    def __init__(self, *args, **kwargs):\n",
    "        # Remove n_jobs if present\n",
    "        if 'n_jobs' in kwargs:\n",
    "            kwargs.pop('n_jobs')\n",
    "        super().__init__(*args, **kwargs)\n",
    "\n",
    "knn_regressor = KNeighborsRegressorWrapper(algorithm = 'brute')\n",
    "\n",
    "param_grid = {\n",
    "    'n_neighbors': [3, 5, 7, 10, 15],\n",
    "    'weights': ['uniform'],\n",
    "    'p': [1, 2],\n",
    "    'metric': ['euclidean', 'manhattan']\n",
    "}\n",
    "grid_search = GridSearchCV(estimator = knn_regressor, param_grid = param_grid, scoring = gpu_r2_scorer, cv = 5, verbose = 1)\n",
    "grid_search.fit(X_train_gpu, Y_train_gpu)\n",
    "Best_KNN_model = grid_search.best_estimator_"
   ]
  },
  {
   "cell_type": "code",
   "execution_count": null,
   "metadata": {},
   "outputs": [
    {
     "name": "stdout",
     "output_type": "stream",
     "text": [
      "0.10474234990011981 0.32363922799951156 0.23018845802493487 0.7123495883698144\n"
     ]
    }
   ],
   "source": [
    "# Various scores for KNN model\n",
    "\n",
    "y_preds_KNN = Best_KNN_model.predict(X_test_gpu)\n",
    "mse_KNN = mean_squared_error(Y_test_gpu, y_preds_KNN)\n",
    "rmse_KNN = np.sqrt(mse_KNN)\n",
    "mae_KNN = mean_absolute_error(Y_test_gpu, y_preds_KNN)\n",
    "r2_score_KNN = r2_score(Y_test_gpu, y_preds_KNN)\n",
    "print(mse_KNN, rmse_KNN, mae_KNN, r2_score_KNN)"
   ]
  },
  {
   "cell_type": "code",
   "execution_count": null,
   "metadata": {},
   "outputs": [],
   "source": [
    "# SVR model\n",
    "\n",
    "from cuml.svm import SVR\n",
    "\n",
    "SVR_model = SVR(\n",
    "    C = 1.0,              \n",
    "    kernel = 'linear',     \n",
    "    epsilon = 0.1,         \n",
    "    tol = 0.001,           \n",
    "    cache_size = 4000,     \n",
    "    max_iter = -1          \n",
    ")\n",
    "SVR_model.fit(X_train_gpu, Y_train_gpu)"
   ]
  },
  {
   "cell_type": "code",
   "execution_count": null,
   "metadata": {},
   "outputs": [
    {
     "name": "stdout",
     "output_type": "stream",
     "text": [
      "3.085337808446991 1.7565129684824394 1.44092191126834 -7.473160010867165\n"
     ]
    }
   ],
   "source": [
    "# Various scores for SVR model\n",
    "\n",
    "y_preds_SVR = SVR_model.predict(X_test_gpu)\n",
    "mse_SVR = mean_squared_error(Y_test_gpu, y_preds_SVR)\n",
    "rmse_SVR = np.sqrt(mse_SVR)\n",
    "mae_SVR = mean_absolute_error(Y_test_gpu, y_preds_SVR)\n",
    "r2_score_SVR = r2_score(Y_test_gpu, y_preds_SVR)\n",
    "print(mse_SVR, rmse_SVR, mae_SVR, r2_score_SVR)"
   ]
  },
  {
   "cell_type": "code",
   "execution_count": null,
   "metadata": {},
   "outputs": [],
   "source": [
    "# Saving model after training\n",
    "\n",
    "pickle.dump(SVR_model, open('model_SVR.pkl', 'wb'))"
   ]
  },
  {
   "cell_type": "code",
   "execution_count": null,
   "metadata": {},
   "outputs": [
    {
     "name": "stdout",
     "output_type": "stream",
     "text": [
      "Fitting 5 folds for each of 4 candidates, totalling 20 fits\n"
     ]
    }
   ],
   "source": [
    "# Linear regression model\n",
    "\n",
    "from cuml.linear_model import LinearRegression\n",
    "\n",
    "Linear_model = LinearRegression()\n",
    "\n",
    "param_grid = {\n",
    "    'fit_intercept': [True, False],\n",
    "    'copy_X': [True, False],\n",
    "}\n",
    "grid_search = GridSearchCV(estimator = Linear_model, param_grid = param_grid, cv = 5, scoring = gpu_r2_scorer, verbose = 1)\n",
    "grid_search.fit(X_train_gpu, Y_train_gpu)\n",
    "Best_Linear_model = grid_search.best_estimator_"
   ]
  },
  {
   "cell_type": "code",
   "execution_count": null,
   "metadata": {},
   "outputs": [
    {
     "name": "stdout",
     "output_type": "stream",
     "text": [
      "0.16677013366957646 0.40837499148402373 0.2691118155319384 0.5420047607923691\n"
     ]
    }
   ],
   "source": [
    "# Various scores for Linear regression model\n",
    "\n",
    "y_preds_linear = Best_Linear_model.predict(X_test_gpu)\n",
    "mse_linear = mean_squared_error(Y_test_gpu, y_preds_linear)\n",
    "rmse_linear = np.sqrt(mse_linear)\n",
    "mae_linear = mean_absolute_error(Y_test_gpu, y_preds_linear)\n",
    "r2_score_linear = r2_score(Y_test_gpu, y_preds_linear)\n",
    "print(mse_linear, rmse_linear, mae_linear, r2_score_linear)"
   ]
  },
  {
   "cell_type": "code",
   "execution_count": null,
   "metadata": {},
   "outputs": [
    {
     "name": "stdout",
     "output_type": "stream",
     "text": [
      "Fitting 3 folds for each of 512 candidates, totalling 1536 fits\n"
     ]
    }
   ],
   "source": [
    "# XGB Regressor model\n",
    "\n",
    "from xgboost import XGBRegressor\n",
    "\n",
    "xgb_reg = XGBRegressor(objective = 'reg:squarederror', device = 'cuda')\n",
    "param_grid = {\n",
    "    'n_estimators': [500, 1000],        \n",
    "    'max_depth': [10, 15],                \n",
    "    'learning_rate': [0.05, 0.1],      \n",
    "    'subsample': [0.8, 1.0],            \n",
    "    'colsample_bytree': [0.8, 1.0],     \n",
    "    'min_child_weight': [5, 10],          \n",
    "    'gamma': [0.1, 0.3],                  \n",
    "    'reg_alpha': [0.01, 0.1],             \n",
    "    'reg_lambda': [1.5, 2]                \n",
    "}\n",
    "grid_search = GridSearchCV(estimator = xgb_reg, param_grid = param_grid, cv = 3, scoring = gpu_r2_scorer, verbose = 1)\n",
    "grid_search.fit(X_train_gpu, Y_train_gpu)\n",
    "Best_XGB_model = grid_search.best_estimator_"
   ]
  },
  {
   "cell_type": "code",
   "execution_count": null,
   "metadata": {},
   "outputs": [],
   "source": [
    "# Saving model after training\n",
    "\n",
    "pickle.dump(Best_XGB_model, open('model_XGB.pkl', 'wb'))"
   ]
  },
  {
   "cell_type": "code",
   "execution_count": null,
   "metadata": {},
   "outputs": [],
   "source": [
    "# Load model for predicition\n",
    "\n",
    "Best_XGB_model = pickle.load(open('model_XGB.pkl','rb'))"
   ]
  },
  {
   "cell_type": "code",
   "execution_count": null,
   "metadata": {},
   "outputs": [
    {
     "name": "stdout",
     "output_type": "stream",
     "text": [
      "0.0642602709538529 0.2534960965258694 0.14973687407689137 0.8235241675504752\n"
     ]
    }
   ],
   "source": [
    "# Various scores for XGB Regressor model\n",
    "\n",
    "y_preds_XGB = Best_XGB_model.predict(X_test_gpu)\n",
    "mse_XGB = mean_squared_error(Y_test_gpu, y_preds_XGB)\n",
    "rmse_XGB = np.sqrt(mse_XGB)\n",
    "mae_XGB = mean_absolute_error(Y_test_gpu, y_preds_XGB)\n",
    "r2_score_XGB = r2_score(Y_test_gpu, y_preds_XGB)\n",
    "print(mse_XGB, rmse_XGB, mae_XGB, r2_score_XGB)"
   ]
  },
  {
   "cell_type": "code",
   "execution_count": null,
   "metadata": {},
   "outputs": [],
   "source": [
    "# Random forest regressor model\n",
    "\n",
    "from cuml.ensemble import RandomForestRegressor\n",
    "\n",
    "rf_gpu = RandomForestRegressor(random_state = 42, n_streams = 1)\n",
    "\n",
    "param_grid = {\n",
    "    'n_estimators': [100, 150],        \n",
    "    'max_depth': [10, 15],              \n",
    "    'max_features': [0.3, 0.5],        \n",
    "    'min_samples_split': [10],        \n",
    "    'min_samples_leaf': [4]          \n",
    "}\n",
    "\n",
    "grid_search = GridSearchCV(estimator = rf_gpu, param_grid = param_grid, cv = 3, scoring = gpu_r2_scorer, verbose = 1)\n",
    "grid_search.fit(X_train_gpu, Y_train_gpu)\n",
    "Best_forest_model = grid_search.best_estimator_"
   ]
  },
  {
   "cell_type": "code",
   "execution_count": null,
   "metadata": {},
   "outputs": [
    {
     "name": "stdout",
     "output_type": "stream",
     "text": [
      "0.07496387378950196 0.2737953136733753 0.1767143939483601 0.7941292211459269\n"
     ]
    }
   ],
   "source": [
    "# Various scores for Random forest Regressor model\n",
    "\n",
    "y_preds_forest = Best_forest_model.predict(X_test_gpu)\n",
    "mse_forest = mean_squared_error(Y_test_gpu, y_preds_forest)\n",
    "rmse_forest = np.sqrt(mse_forest)\n",
    "mae_forest = mean_absolute_error(Y_test_gpu, y_preds_forest)\n",
    "r2_score_forest = r2_score(Y_test_gpu, y_preds_forest)\n",
    "print(mse_forest, rmse_forest, mae_forest, r2_score_forest)"
   ]
  },
  {
   "cell_type": "code",
   "execution_count": null,
   "metadata": {},
   "outputs": [
    {
     "data": {
      "image/png": "[encoded data removed]",
      "text/plain": [
       "<Figure size 800x500 with 1 Axes>"
      ]
     },
     "metadata": {},
     "output_type": "display_data"
    }
   ],
   "source": [
    "# Comparison of R² Scores for Different Models\n",
    "\n",
    "import matplotlib.pyplot as plt\n",
    "import seaborn as sns\n",
    "\n",
    "models = ['KNN','SVR', 'Linear Regression', 'Gradient Boosting', 'Random Forest']\n",
    "r2_scores = [r2_score_KNN, r2_score_SVR, r2_score_linear, r2_score_XGB, r2_score_forest]  \n",
    "\n",
    "plt.figure(figsize=(8, 5))\n",
    "sns.barplot(x = models, y = r2_scores, hue = models, legend = False, palette = 'viridis')\n",
    "\n",
    "plt.xlabel('Models')\n",
    "plt.ylabel('R² Score')\n",
    "plt.title('Comparison of R² Scores for Different Models')\n",
    "plt.ylim(0, 1) \n",
    "\n",
    "\n",
    "for i, score in enumerate(r2_scores):\n",
    "    plt.text(i, score + 0.02, f'{score:.2f}', ha = 'center', va = 'bottom')\n",
    "\n",
    "\n",
    "plt.show()"
   ]
  },
  {
   "cell_type": "code",
   "execution_count": null,
   "metadata": {},
   "outputs": [
    {
     "data": {
      "image/png": "[encoded data removed]",
      "text/plain": [
       "<Figure size 800x600 with 1 Axes>"
      ]
     },
     "metadata": {},
     "output_type": "display_data"
    }
   ],
   "source": [
    "# Comparison of MSE Scores for Diffrent Models\n",
    "\n",
    "models = ['KNN','SVR', 'Linear Regression', 'Gradient Boosting', 'Random Forest']\n",
    "mse_scores = [mse_KNN, mse_SVR, mse_linear, mse_XGB, mse_forest]\n",
    "\n",
    "\n",
    "plt.figure(figsize = (8, 6))\n",
    "sns.barplot(x = models, y = mse_scores, hue = models, legend = False,  palette = 'viridis')\n",
    "\n",
    "# Add labels and title\n",
    "plt.xlabel('Models', fontsize = 12)\n",
    "plt.ylabel('Mean Squared Error (MSE)', fontsize = 12)\n",
    "plt.title('Comparison of MSE Scores for Diffrent Models', fontsize = 14)\n",
    "plt.ylim(0, 0.3)\n",
    "\n",
    "# Add data labels on top of bars\n",
    "for i, score in enumerate(mse_scores):\n",
    "    plt.text(i, score + 0.01, f'{score:.2f}', ha = 'center', va = 'bottom', fontsize = 12)\n",
    "\n",
    "# Show the plot\n",
    "plt.tight_layout()\n",
    "plt.show()"
   ]
  },
  {
   "cell_type": "code",
   "execution_count": null,
   "metadata": {},
   "outputs": [
    {
     "data": {
      "image/png": "[encoded data removed]",
      "text/plain": [
       "<Figure size 800x600 with 1 Axes>"
      ]
     },
     "metadata": {},
     "output_type": "display_data"
    }
   ],
   "source": [
    "# Comparison of RMSE Scores for Diffrent Models\n",
    "\n",
    "models = ['KNN','SVR', 'Linear Regression', 'Gradient Boosting', 'Random Forest']\n",
    "rmse_scores = [rmse_KNN, rmse_SVR, rmse_linear, rmse_XGB, rmse_forest]\n",
    "\n",
    "\n",
    "plt.figure(figsize = (8, 6))\n",
    "sns.barplot(x = models, y = rmse_scores, hue = models, legend = False, palette = 'viridis')\n",
    "\n",
    "# Add labels and title\n",
    "plt.xlabel('Models', fontsize = 12)\n",
    "plt.ylabel('Rooot Mean Squared Error (RMSE)', fontsize = 12)\n",
    "plt.title('Comparison of RMSE Scores for Diffrent Models', fontsize = 14)\n",
    "plt.ylim(0, 0.5)\n",
    "\n",
    "# Add data labels on top of bars\n",
    "for i, score in enumerate(rmse_scores):\n",
    "    plt.text(i, score + 0.01, f'{score:.2f}', ha = 'center', va = 'bottom', fontsize = 12)\n",
    "\n",
    "# Show the plot\n",
    "plt.tight_layout()\n",
    "plt.show()"
   ]
  },
  {
   "cell_type": "code",
   "execution_count": null,
   "metadata": {},
   "outputs": [
    {
     "data": {
      "image/png": "[encoded data removed]",
      "text/plain": [
       "<Figure size 800x600 with 1 Axes>"
      ]
     },
     "metadata": {},
     "output_type": "display_data"
    }
   ],
   "source": [
    "# Comparison of MAE Scores for Diffrent Models\n",
    "\n",
    "models = ['KNN','SVR', 'Linear Regression', 'Gradient Boosting', 'Random Forest']\n",
    "mae_scores = [mae_KNN, mae_SVR, mae_linear, mae_XGB, mae_forest]\n",
    "\n",
    "\n",
    "plt.figure(figsize = (8, 6))\n",
    "sns.barplot(x = models, y = mae_scores, hue = models, legend = False, palette = 'viridis')\n",
    "\n",
    "# Add labels and title\n",
    "plt.xlabel('Models', fontsize = 12)\n",
    "plt.ylabel('Mean Absolute Error (MAE)', fontsize = 12)\n",
    "plt.title('Comparison of MAE Scores for Diffrent Models', fontsize = 14)\n",
    "plt.ylim(0, 0.3)\n",
    "\n",
    "# Add data labels on top of bars\n",
    "for i, score in enumerate(mae_scores):\n",
    "    plt.text(i, score + 0.01, f'{score:.2f}', ha = 'center', va = 'bottom', fontsize = 12)\n",
    "\n",
    "# Show the plot\n",
    "plt.tight_layout()\n",
    "plt.show()"
   ]
  }
 ],
 "metadata": {
  "kernelspec": {
   "display_name": "Python 3",
   "language": "python",
   "name": "python3"
  },
  "language_info": {
   "codemirror_mode": {
    "name": "ipython",
    "version": 3
   },
   "file_extension": ".py",
   "mimetype": "text/x-python",
   "name": "python",
   "nbconvert_exporter": "python",
   "pygments_lexer": "ipython3",
   "version": "3.11.11"
  }
 },
 "nbformat": 4,
 "nbformat_minor": 2
}
