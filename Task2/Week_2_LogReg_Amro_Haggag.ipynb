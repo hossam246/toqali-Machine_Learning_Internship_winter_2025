{
  "nbformat": 4,
  "nbformat_minor": 0,
  "metadata": {
    "colab": {
      "provenance": []
    },
    "kernelspec": {
      "name": "python3",
      "display_name": "Python 3"
    },
    "language_info": {
      "name": "python"
    }
  },
  "cells": [
    {
      "cell_type": "code",
      "execution_count": 50,
      "metadata": {
        "id": "XsB0fLPst0xb"
      },
      "outputs": [],
      "source": [
        "import pandas as pd\n",
        "import numpy as np\n",
        "import seaborn as sns\n",
        "import matplotlib.pyplot as plt\n",
        "from scipy import stats\n",
        "from sklearn.preprocessing import StandardScaler\n",
        "from sklearn.feature_selection import chi2\n",
        "from sklearn.model_selection import train_test_split\n",
        "from sklearn.model_selection import cross_val_score, KFold\n",
        "from sklearn.neighbors import KNeighborsClassifier\n",
        "from sklearn.metrics import accuracy_score, classification_report, confusion_matrix, ConfusionMatrixDisplay\n",
        "from sklearn.linear_model import LogisticRegression\n",
        "from sklearn.model_selection import GridSearchCV\n",
        "import calendar\n",
        "\n",
        "%matplotlib inline"
      ]
    },
    {
      "cell_type": "code",
      "source": [
        "df = pd.read_csv(\"/content/processed_data_2.csv\")\n",
        "X = df.drop(columns=['booking status']) #features\n",
        "y = df['booking status'] #target value\n",
        "\n",
        "print(np.isnan(y).sum())  # Count the number of NaN values in y\n",
        "print(y.dtype)"
      ],
      "metadata": {
        "colab": {
          "base_uri": "https://localhost:8080/"
        },
        "id": "QAExZjDpWSHH",
        "outputId": "d768eba9-1de8-42f4-d022-5019c49ca597"
      },
      "execution_count": 59,
      "outputs": [
        {
          "output_type": "stream",
          "name": "stdout",
          "text": [
            "0\n",
            "int64\n"
          ]
        }
      ]
    },
    {
      "cell_type": "markdown",
      "source": [
        "split test"
      ],
      "metadata": {
        "id": "C9xQbrIQYMAd"
      }
    },
    {
      "cell_type": "code",
      "source": [
        "# Split data into training (80%) and final test set (20%)\n",
        "X_train, X_test, y_train, y_test = train_test_split(X, y, test_size=0.2, random_state=42, stratify=y)\n",
        "\n",
        "# Display the shapes of the splits\n",
        "print(f\"Training data shape: {X_train.shape}\")\n",
        "print(f\"Test data shape: {X_test.shape}\")\n",
        "print(y_train.dtype)  # Check data type"
      ],
      "metadata": {
        "colab": {
          "base_uri": "https://localhost:8080/"
        },
        "id": "ugk15efBYLu0",
        "outputId": "e6de4183-5143-42c7-d865-e5fe7a8a02c8"
      },
      "execution_count": 60,
      "outputs": [
        {
          "output_type": "stream",
          "name": "stdout",
          "text": [
            "Training data shape: (28998, 21)\n",
            "Test data shape: (7250, 21)\n",
            "int64\n"
          ]
        }
      ]
    },
    {
      "cell_type": "markdown",
      "source": [
        "create the model"
      ],
      "metadata": {
        "id": "IfaC4Jj0xCYK"
      }
    },
    {
      "cell_type": "code",
      "source": [
        "# Define the model\n",
        "log_reg = LogisticRegression(max_iter=1000, random_state=41)\n",
        "\n",
        "# Define the hyperparameters grid\n",
        "param_grid = {'C': [0.01, 0.1, 1, 10, 100]}  # Trying different values of C\n",
        "\n",
        "# Set up GridSearchCV\n",
        "# cv is predefined = 5\n",
        "grid_search = GridSearchCV(log_reg, param_grid, cv=5, scoring='accuracy', n_jobs=-1)\n",
        "\n",
        "# Perform the search on training data\n",
        "grid_search.fit(X_train, y_train)\n",
        "\n",
        "# Print the best hyperparameter value\n",
        "print(\"Best C value:\", grid_search.best_params_['C'])\n",
        "print(\"Best cross-validation accuracy:\", grid_search.best_score_)\n"
      ],
      "metadata": {
        "colab": {
          "base_uri": "https://localhost:8080/"
        },
        "id": "QG4Mwd1e46PL",
        "outputId": "eee1c38a-d501-4e9b-f992-81d5a233d883"
      },
      "execution_count": 61,
      "outputs": [
        {
          "output_type": "stream",
          "name": "stdout",
          "text": [
            "Best C value: 10\n",
            "Best cross-validation accuracy: 0.7898819356488337\n"
          ]
        }
      ]
    },
    {
      "cell_type": "code",
      "source": [
        "#testing model with test data\n",
        "log_reg = LogisticRegression(max_iter=1000, C=10, random_state=41)\n",
        "log_reg.fit(X_train, y_train)\n",
        "y_pred = log_reg.predict(X_test)  # Predict on test data\n",
        "\n",
        "accuracy = accuracy_score(y_test, y_pred)\n",
        "print(f\"Final Test Accuracy: {accuracy:.4f}\")\n",
        "print(\"Classification Report:\\n\", classification_report(y_test, y_pred))\n",
        "\n",
        "#confusion matrix\n",
        "\n",
        "cm = confusion_matrix(y_test, y_pred)\n",
        "\n",
        "# Print Confusion Matrix as Numbers\n",
        "print(\"Confusion Matrix:\\n\", cm)\n",
        "\n",
        "# Plot the Confusion Matrix\n",
        "disp = ConfusionMatrixDisplay(confusion_matrix=cm)\n",
        "disp.plot(cmap=plt.cm.Blues)\n",
        "plt.show()"
      ],
      "metadata": {
        "colab": {
          "base_uri": "https://localhost:8080/",
          "height": 692
        },
        "id": "CjBUjO0RyvwV",
        "outputId": "810b6934-bbf0-4a46-aad3-313e5fbb51eb"
      },
      "execution_count": 62,
      "outputs": [
        {
          "output_type": "stream",
          "name": "stdout",
          "text": [
            "Final Test Accuracy: 0.7876\n",
            "Classification Report:\n",
            "               precision    recall  f1-score   support\n",
            "\n",
            "           0       0.72      0.58      0.64      2377\n",
            "           1       0.81      0.89      0.85      4873\n",
            "\n",
            "    accuracy                           0.79      7250\n",
            "   macro avg       0.77      0.73      0.75      7250\n",
            "weighted avg       0.78      0.79      0.78      7250\n",
            "\n",
            "Confusion Matrix:\n",
            " [[1383  994]\n",
            " [ 546 4327]]\n"
          ]
        },
        {
          "output_type": "display_data",
          "data": {
            "text/plain": [
              "<Figure size 640x480 with 2 Axes>"
            ],
            "image/png": "[encoded data removed]"
          },
          "metadata": {}
        }
      ]
    }
  ]
}