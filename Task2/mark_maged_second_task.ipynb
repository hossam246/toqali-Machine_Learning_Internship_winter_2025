{
 "cells": [
  {
   "cell_type": "code",
   "execution_count": 1,
   "metadata": {},
   "outputs": [],
   "source": [
    "#importing libraries\n",
    "import pandas as pd\n",
    "import numpy as np\n",
    "import matplotlib.pyplot as plt\n",
    "import seaborn as sns\n",
    "from sklearn import preprocessing\n",
    "from sklearn. model_selection import train_test_split\n",
    "from sklearn.metrics import accuracy_score, classification_report, confusion_matrix\n",
    "from sklearn.neighbors import KNeighborsClassifier\n",
    "from sklearn.linear_model import LogisticRegression\n",
    "from statsmodels.stats.outliers_influence import variance_inflation_factor"
   ]
  },
  {
   "cell_type": "code",
   "execution_count": 2,
   "metadata": {},
   "outputs": [],
   "source": [
    "#setting up the dataframe\n",
    "hotel_reservations = pd.read_csv(r\"C:\\Cellula\\first project\\first inten project.csv\")\n",
    "hotel_reservations.columns = hotel_reservations.columns.str.replace(' ', '_')\n",
    "hotel_reservations.columns = hotel_reservations.columns.str.replace('price_', 'price')\n",
    "#the date 2018-2-29 does not exist on the calendar so it was replaced with 2018-2-28\n",
    "hotel_reservations['date_of_reservation'] = hotel_reservations['date_of_reservation'].str.replace('2018-2-29', '2/28/2018') \n",
    "hotel_reservations['date_of_reservation'] = pd.to_datetime(hotel_reservations['date_of_reservation'])\n",
    "hotel_reservations['total_nights'] = hotel_reservations.iloc[:, 3:5].sum(axis= 1)\n",
    "hotel_reservations['total_individuals'] = hotel_reservations.iloc[:, 1:3].sum(axis=1)\n",
    "hotel_reservations['reservation_month'] = hotel_reservations['date_of_reservation'].dt.month\n",
    "hotel_reservations['reservation_season'] = 'winter'\n",
    "hotel_reservations.loc[hotel_reservations['reservation_month'].between(3,5), 'reservation_season'] = 'spring'\n",
    "hotel_reservations.loc[hotel_reservations['reservation_month'].between(6,8), 'reservation_season'] = 'summer'\n",
    "hotel_reservations.loc[hotel_reservations['reservation_month'].between(9,11), 'reservation_season'] = 'autumn'"
   ]
  },
  {
   "cell_type": "code",
   "execution_count": 3,
   "metadata": {},
   "outputs": [],
   "source": [
    "#replacing lead time and average price outliers with min/max since they have alot of ouliers\n",
    "for col in hotel_reservations[['lead_time', 'average_price']]:\n",
    "    q1 = np.percentile(hotel_reservations[col], 25, method= 'midpoint')\n",
    "    q3 = np.percentile(hotel_reservations[col], 75, method= 'midpoint')\n",
    "    iqr = q3-q1\n",
    "    if col == 'lead_time': #max and min are rounded as lead time data type is int64\n",
    "        max = round(q3 + 1.5*iqr)\n",
    "        min = round(q1 - 1.5*iqr)\n",
    "    else:\n",
    "        max = q3 + 1.5*iqr\n",
    "        min = q1 - 1.5*iqr\n",
    "    hotel_reservations.loc[hotel_reservations[col] > max, col] = max\n",
    "    hotel_reservations.loc[hotel_reservations[col] < min, col] = min"
   ]
  },
  {
   "cell_type": "code",
   "execution_count": 4,
   "metadata": {},
   "outputs": [],
   "source": [
    "#dropping outliers for number of nights and special requests since they have a few outliers\n",
    "for col in hotel_reservations[['number_of_week_nights', 'number_of_weekend_nights', 'total_nights', 'special_requests']]:\n",
    "    q1 = np.percentile(hotel_reservations[col], 25, method= 'midpoint')\n",
    "    q3 = np.percentile(hotel_reservations[col], 75, method= 'midpoint')\n",
    "    iqr = q3-q1\n",
    "    max = round(q3 + 1.5*iqr)\n",
    "    min = round(q1 - 1.5*iqr)\n",
    "    upper_indices = hotel_reservations[hotel_reservations[col] > max].index\n",
    "    lower_indices = hotel_reservations[hotel_reservations[col] < min].index\n",
    "    hotel_reservations.drop(index= upper_indices, inplace = True)\n",
    "    hotel_reservations.drop(index= lower_indices, inplace = True)"
   ]
  },
  {
   "cell_type": "code",
   "execution_count": 5,
   "metadata": {},
   "outputs": [],
   "source": [
    "#only 22 reservations have above 2 children, 16 reservations have above 3 adults and 18 reservations have above 4 total individuals so these reservations will be dropped\n",
    "for col in hotel_reservations[['number_of_children', 'number_of_adults', 'total_individuals']]:\n",
    "    if col == 'number_of_children':\n",
    "        outlier_index = hotel_reservations[hotel_reservations[col] > 2].index\n",
    "        hotel_reservations.drop(index= outlier_index, inplace= True)\n",
    "    elif col == 'number_of_adults':\n",
    "        outlier_index = hotel_reservations[hotel_reservations[col] > 3].index\n",
    "        hotel_reservations.drop(index= outlier_index, inplace= True)\n",
    "    else:\n",
    "        outlier_index = hotel_reservations[hotel_reservations[col] > 4].index\n",
    "        hotel_reservations.drop(index= outlier_index, inplace= True)\n"
   ]
  },
  {
   "cell_type": "code",
   "execution_count": 6,
   "metadata": {},
   "outputs": [
    {
     "data": {
      "text/plain": [
       "Booking_ID                  0\n",
       "number_of_adults            0\n",
       "number_of_children          0\n",
       "number_of_weekend_nights    0\n",
       "number_of_week_nights       0\n",
       "type_of_meal                0\n",
       "car_parking_space           0\n",
       "room_type                   0\n",
       "lead_time                   0\n",
       "market_segment_type         0\n",
       "repeated                    0\n",
       "P-C                         0\n",
       "P-not-C                     0\n",
       "average_price               0\n",
       "special_requests            0\n",
       "date_of_reservation         0\n",
       "booking_status              0\n",
       "total_nights                0\n",
       "total_individuals           0\n",
       "reservation_month           0\n",
       "reservation_season          0\n",
       "dtype: int64"
      ]
     },
     "execution_count": 6,
     "metadata": {},
     "output_type": "execute_result"
    }
   ],
   "source": [
    "#checking for nulls\n",
    "hotel_reservations.reset_index(drop= True, inplace= True)\n",
    "hotel_reservations.isnull().sum()"
   ]
  },
  {
   "cell_type": "code",
   "execution_count": 7,
   "metadata": {},
   "outputs": [],
   "source": [
    "#dropping costing features\n",
    "hotel_reservations.drop(['Booking_ID', 'date_of_reservation', 'reservation_month', 'room_type', 'type_of_meal'], axis= 1, inplace= True)"
   ]
  },
  {
   "cell_type": "code",
   "execution_count": 8,
   "metadata": {},
   "outputs": [],
   "source": [
    "#booking status label encoding\n",
    "label_encoder= preprocessing.LabelEncoder()\n",
    "hotel_reservations['booking_status'] = label_encoder.fit_transform(hotel_reservations['booking_status'])"
   ]
  },
  {
   "cell_type": "code",
   "execution_count": 9,
   "metadata": {},
   "outputs": [],
   "source": [
    "#one-hot encoding of categorical features\n",
    "hotel_reservations.rename(columns={'market_segment_type' : 'mst', 'reservation_season' : 'rs'}, inplace= True)\n",
    "onehotencoder = preprocessing.OneHotEncoder(sparse_output= False)\n",
    "ohe = onehotencoder.fit_transform(hotel_reservations[['mst', 'rs']])\n",
    "ohe_df = pd.DataFrame(ohe, columns= onehotencoder.get_feature_names_out(['mst', 'rs']))\n",
    "ohe_df.columns = [x.lower() for x in ohe_df.columns]\n",
    "hs_encoded = pd.concat([hotel_reservations, ohe_df], axis= 1)\n",
    "hs_encoded.drop(['mst', 'rs'], axis= 1, inplace= True)\n"
   ]
  },
  {
   "cell_type": "code",
   "execution_count": 10,
   "metadata": {},
   "outputs": [],
   "source": [
    "#normalizing non-encoded features\n",
    "scaler = preprocessing.Normalizer()\n",
    "non_scaled_feat = ['number_of_adults', 'number_of_children', 'number_of_weekend_nights', \n",
    "                    'number_of_week_nights', 'lead_time', 'P-C', 'P-not-C', 'average_price', \n",
    "                    'special_requests', 'total_nights', 'total_individuals']\n",
    "scaled_data = scaler.fit_transform(hs_encoded[non_scaled_feat])\n",
    "scaled_df = pd.DataFrame(scaled_data, columns= hs_encoded[non_scaled_feat].columns)\n",
    "hs_encoded.drop(non_scaled_feat, axis= 1, inplace= True)\n",
    "hs_scaled_encoded = pd.concat([hs_encoded, scaled_df], axis= 1)"
   ]
  },
  {
   "cell_type": "code",
   "execution_count": 11,
   "metadata": {},
   "outputs": [
    {
     "name": "stdout",
     "output_type": "stream",
     "text": [
      "positively correlated features: ['repeated', 'mst_corporate', 'rs_winter', 'number_of_adults', 'number_of_week_nights', 'average_price', 'special_requests', 'total_nights', 'total_individuals']\n",
      "negatively correlated features: ['mst_online', 'rs_summer', 'lead_time']\n"
     ]
    }
   ],
   "source": [
    "#finding features that have a weak to moderate correlation with booking status\n",
    "hs_corr = hs_scaled_encoded.corr()\n",
    "postive_corr = hs_corr['booking_status'].loc[hs_corr['booking_status'].between(0.1, 0.99)].index.tolist()\n",
    "print('positively correlated features:', postive_corr)\n",
    "negative_corr = hs_corr['booking_status'].loc[hs_corr['booking_status'] < -0.1].index.tolist()\n",
    "print('negatively correlated features:', negative_corr)\n",
    "corr = postive_corr + negative_corr"
   ]
  },
  {
   "cell_type": "code",
   "execution_count": 12,
   "metadata": {},
   "outputs": [],
   "source": [
    "#setting target variable\n",
    "hs_target = hs_scaled_encoded['booking_status']\n",
    "hs_scaled_encoded.drop('booking_status', axis= 1, inplace= True)"
   ]
  },
  {
   "cell_type": "code",
   "execution_count": 13,
   "metadata": {},
   "outputs": [
    {
     "name": "stdout",
     "output_type": "stream",
     "text": [
      "testing score = 0.8308991981672395\n"
     ]
    }
   ],
   "source": [
    "#KNN\n",
    "x_train, x_test, y_train, y_test = train_test_split(hs_scaled_encoded, hs_target, test_size= 0.2, random_state= 45)\n",
    "model = KNeighborsClassifier(n_neighbors= 7)\n",
    "model.fit(x_train, y_train)\n",
    "y_pred = model.predict(x_test)\n",
    "print('testing score =', accuracy_score(y_test, y_pred))"
   ]
  },
  {
   "cell_type": "code",
   "execution_count": 14,
   "metadata": {},
   "outputs": [
    {
     "data": {
      "text/html": [
       "<div>\n",
       "<style scoped>\n",
       "    .dataframe tbody tr th:only-of-type {\n",
       "        vertical-align: middle;\n",
       "    }\n",
       "\n",
       "    .dataframe tbody tr th {\n",
       "        vertical-align: top;\n",
       "    }\n",
       "\n",
       "    .dataframe thead th {\n",
       "        text-align: right;\n",
       "    }\n",
       "</style>\n",
       "<table border=\"1\" class=\"dataframe\">\n",
       "  <thead>\n",
       "    <tr style=\"text-align: right;\">\n",
       "      <th></th>\n",
       "      <th>feature</th>\n",
       "      <th>vif</th>\n",
       "    </tr>\n",
       "  </thead>\n",
       "  <tbody>\n",
       "    <tr>\n",
       "      <th>0</th>\n",
       "      <td>repeated</td>\n",
       "      <td>1.301710</td>\n",
       "    </tr>\n",
       "    <tr>\n",
       "      <th>1</th>\n",
       "      <td>mst_corporate</td>\n",
       "      <td>1.519431</td>\n",
       "    </tr>\n",
       "    <tr>\n",
       "      <th>2</th>\n",
       "      <td>rs_winter</td>\n",
       "      <td>1.338970</td>\n",
       "    </tr>\n",
       "    <tr>\n",
       "      <th>3</th>\n",
       "      <td>number_of_adults</td>\n",
       "      <td>35.322412</td>\n",
       "    </tr>\n",
       "    <tr>\n",
       "      <th>4</th>\n",
       "      <td>number_of_week_nights</td>\n",
       "      <td>11.176169</td>\n",
       "    </tr>\n",
       "    <tr>\n",
       "      <th>5</th>\n",
       "      <td>average_price</td>\n",
       "      <td>9.184286</td>\n",
       "    </tr>\n",
       "    <tr>\n",
       "      <th>6</th>\n",
       "      <td>special_requests</td>\n",
       "      <td>1.869273</td>\n",
       "    </tr>\n",
       "    <tr>\n",
       "      <th>7</th>\n",
       "      <td>total_nights</td>\n",
       "      <td>13.578620</td>\n",
       "    </tr>\n",
       "    <tr>\n",
       "      <th>8</th>\n",
       "      <td>total_individuals</td>\n",
       "      <td>34.012298</td>\n",
       "    </tr>\n",
       "    <tr>\n",
       "      <th>9</th>\n",
       "      <td>mst_online</td>\n",
       "      <td>3.597909</td>\n",
       "    </tr>\n",
       "    <tr>\n",
       "      <th>10</th>\n",
       "      <td>rs_summer</td>\n",
       "      <td>1.498196</td>\n",
       "    </tr>\n",
       "    <tr>\n",
       "      <th>11</th>\n",
       "      <td>lead_time</td>\n",
       "      <td>2.083994</td>\n",
       "    </tr>\n",
       "  </tbody>\n",
       "</table>\n",
       "</div>"
      ],
      "text/plain": [
       "                  feature        vif\n",
       "0                repeated   1.301710\n",
       "1           mst_corporate   1.519431\n",
       "2               rs_winter   1.338970\n",
       "3        number_of_adults  35.322412\n",
       "4   number_of_week_nights  11.176169\n",
       "5           average_price   9.184286\n",
       "6        special_requests   1.869273\n",
       "7            total_nights  13.578620\n",
       "8       total_individuals  34.012298\n",
       "9              mst_online   3.597909\n",
       "10              rs_summer   1.498196\n",
       "11              lead_time   2.083994"
      ]
     },
     "execution_count": 14,
     "metadata": {},
     "output_type": "execute_result"
    }
   ],
   "source": [
    "#multicollinearity analysis\n",
    "reg_hs = hs_scaled_encoded[corr]\n",
    "vif_data = pd.DataFrame()\n",
    "vif_data['feature'] = corr\n",
    "vif_data['vif'] = [variance_inflation_factor(reg_hs.values, i) for i in range(len(corr))]\n",
    "vif_data"
   ]
  },
  {
   "cell_type": "markdown",
   "metadata": {},
   "source": [
    "#### Number of adults, number of week nights, total nights and total individuals have high multicollinearity"
   ]
  },
  {
   "cell_type": "code",
   "execution_count": 15,
   "metadata": {},
   "outputs": [
    {
     "name": "stdout",
     "output_type": "stream",
     "text": [
      "              precision    recall  f1-score   support\n",
      "\n",
      "           0       0.66      0.49      0.56      2328\n",
      "           1       0.77      0.87      0.82      4656\n",
      "\n",
      "    accuracy                           0.74      6984\n",
      "   macro avg       0.72      0.68      0.69      6984\n",
      "weighted avg       0.73      0.74      0.73      6984\n",
      "\n"
     ]
    }
   ],
   "source": [
    "#logistic regression\n",
    "x_train, x_test, y_train, y_test = train_test_split(reg_hs, hs_target, test_size= 0.2, random_state= 22)\n",
    "classifier = LogisticRegression(random_state= 75)\n",
    "classifier.fit(x_train, y_train)\n",
    "y_pred = classifier.predict(x_test)\n",
    "print(classification_report(y_test, y_pred))"
   ]
  },
  {
   "cell_type": "code",
   "execution_count": 16,
   "metadata": {},
   "outputs": [
    {
     "data": {
      "text/plain": [
       "2.0207612456747404"
      ]
     },
     "execution_count": 16,
     "metadata": {},
     "output_type": "execute_result"
    }
   ],
   "source": [
    "#imbalanced data ratio\n",
    "bs_count = hs_target.value_counts()\n",
    "bs_ratio = bs_count[1] / bs_count[0]\n",
    "bs_ratio"
   ]
  },
  {
   "cell_type": "code",
   "execution_count": 17,
   "metadata": {},
   "outputs": [
    {
     "name": "stdout",
     "output_type": "stream",
     "text": [
      "              precision    recall  f1-score   support\n",
      "\n",
      "           0       0.58      0.71      0.64      2328\n",
      "           1       0.84      0.74      0.79      4656\n",
      "\n",
      "    accuracy                           0.73      6984\n",
      "   macro avg       0.71      0.73      0.71      6984\n",
      "weighted avg       0.75      0.73      0.74      6984\n",
      "\n"
     ]
    }
   ],
   "source": [
    "#weighted logistic regression\n",
    "weights = {0: bs_ratio, 1: 1}\n",
    "weighted_classifier = LogisticRegression(random_state= 36, class_weight= weights, max_iter=1000)\n",
    "weighted_classifier.fit(x_train, y_train)\n",
    "y_pred_weighted = weighted_classifier.predict(x_test)\n",
    "print(classification_report(y_test, y_pred_weighted))"
   ]
  }
 ],
 "metadata": {
  "kernelspec": {
   "display_name": "base",
   "language": "python",
   "name": "python3"
  },
  "language_info": {
   "codemirror_mode": {
    "name": "ipython",
    "version": 3
   },
   "file_extension": ".py",
   "mimetype": "text/x-python",
   "name": "python",
   "nbconvert_exporter": "python",
   "pygments_lexer": "ipython3",
   "version": "3.11.7"
  }
 },
 "nbformat": 4,
 "nbformat_minor": 2
}
