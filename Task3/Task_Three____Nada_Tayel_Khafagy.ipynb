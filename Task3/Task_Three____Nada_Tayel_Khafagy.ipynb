{
  "cells": [
    {
      "cell_type": "markdown",
      "metadata": {
        "id": "u_0zi4uOBx4o"
      },
      "source": [
        "\n",
        "\n",
        "---\n",
        "---\n",
        "* Installing needed Libraries :\n",
        "\n",
        "---\n",
        "\n",
        "\n",
        "\n"
      ]
    },
    {
      "cell_type": "code",
      "execution_count": 48,
      "metadata": {
        "id": "x7jDSN4zBtXN",
        "colab": {
          "base_uri": "https://localhost:8080/"
        },
        "outputId": "e7ed4a91-6341-4da9-9cd9-80730cde0ad8"
      },
      "outputs": [
        {
          "output_type": "stream",
          "name": "stdout",
          "text": [
            "Requirement already satisfied: numpy in /usr/local/lib/python3.11/dist-packages (1.26.4)\n",
            "Requirement already satisfied: pandas in /usr/local/lib/python3.11/dist-packages (2.2.2)\n",
            "Requirement already satisfied: joblib in /usr/local/lib/python3.11/dist-packages (1.4.2)\n",
            "Requirement already satisfied: matplotlib in /usr/local/lib/python3.11/dist-packages (3.10.0)\n",
            "Requirement already satisfied: scikit-learn in /usr/local/lib/python3.11/dist-packages (1.6.1)\n",
            "Requirement already satisfied: python-dateutil>=2.8.2 in /usr/local/lib/python3.11/dist-packages (from pandas) (2.8.2)\n",
            "Requirement already satisfied: pytz>=2020.1 in /usr/local/lib/python3.11/dist-packages (from pandas) (2025.1)\n",
            "Requirement already satisfied: tzdata>=2022.7 in /usr/local/lib/python3.11/dist-packages (from pandas) (2025.1)\n",
            "Requirement already satisfied: contourpy>=1.0.1 in /usr/local/lib/python3.11/dist-packages (from matplotlib) (1.3.1)\n",
            "Requirement already satisfied: cycler>=0.10 in /usr/local/lib/python3.11/dist-packages (from matplotlib) (0.12.1)\n",
            "Requirement already satisfied: fonttools>=4.22.0 in /usr/local/lib/python3.11/dist-packages (from matplotlib) (4.56.0)\n",
            "Requirement already satisfied: kiwisolver>=1.3.1 in /usr/local/lib/python3.11/dist-packages (from matplotlib) (1.4.8)\n",
            "Requirement already satisfied: packaging>=20.0 in /usr/local/lib/python3.11/dist-packages (from matplotlib) (24.2)\n",
            "Requirement already satisfied: pillow>=8 in /usr/local/lib/python3.11/dist-packages (from matplotlib) (11.1.0)\n",
            "Requirement already satisfied: pyparsing>=2.3.1 in /usr/local/lib/python3.11/dist-packages (from matplotlib) (3.2.1)\n",
            "Requirement already satisfied: scipy>=1.6.0 in /usr/local/lib/python3.11/dist-packages (from scikit-learn) (1.13.1)\n",
            "Requirement already satisfied: threadpoolctl>=3.1.0 in /usr/local/lib/python3.11/dist-packages (from scikit-learn) (3.5.0)\n",
            "Requirement already satisfied: six>=1.5 in /usr/local/lib/python3.11/dist-packages (from python-dateutil>=2.8.2->pandas) (1.17.0)\n"
          ]
        }
      ],
      "source": [
        "!pip install numpy pandas joblib matplotlib scikit-learn"
      ]
    },
    {
      "cell_type": "code",
      "execution_count": 49,
      "metadata": {
        "id": "9Lm2eHhJOtGm",
        "colab": {
          "base_uri": "https://localhost:8080/"
        },
        "outputId": "1c7ce007-b272-4db1-f4ee-b77f3bd15af4"
      },
      "outputs": [
        {
          "output_type": "stream",
          "name": "stdout",
          "text": [
            "Requirement already satisfied: numpy in /usr/local/lib/python3.11/dist-packages (1.26.4)\n",
            "Requirement already satisfied: pandas in /usr/local/lib/python3.11/dist-packages (2.2.2)\n",
            "Requirement already satisfied: joblib in /usr/local/lib/python3.11/dist-packages (1.4.2)\n",
            "Requirement already satisfied: matplotlib in /usr/local/lib/python3.11/dist-packages (3.10.0)\n",
            "Requirement already satisfied: scikit-learn in /usr/local/lib/python3.11/dist-packages (1.6.1)\n",
            "Requirement already satisfied: tk in /usr/local/lib/python3.11/dist-packages (0.1.0)\n",
            "Requirement already satisfied: python-dateutil>=2.8.2 in /usr/local/lib/python3.11/dist-packages (from pandas) (2.8.2)\n",
            "Requirement already satisfied: pytz>=2020.1 in /usr/local/lib/python3.11/dist-packages (from pandas) (2025.1)\n",
            "Requirement already satisfied: tzdata>=2022.7 in /usr/local/lib/python3.11/dist-packages (from pandas) (2025.1)\n",
            "Requirement already satisfied: contourpy>=1.0.1 in /usr/local/lib/python3.11/dist-packages (from matplotlib) (1.3.1)\n",
            "Requirement already satisfied: cycler>=0.10 in /usr/local/lib/python3.11/dist-packages (from matplotlib) (0.12.1)\n",
            "Requirement already satisfied: fonttools>=4.22.0 in /usr/local/lib/python3.11/dist-packages (from matplotlib) (4.56.0)\n",
            "Requirement already satisfied: kiwisolver>=1.3.1 in /usr/local/lib/python3.11/dist-packages (from matplotlib) (1.4.8)\n",
            "Requirement already satisfied: packaging>=20.0 in /usr/local/lib/python3.11/dist-packages (from matplotlib) (24.2)\n",
            "Requirement already satisfied: pillow>=8 in /usr/local/lib/python3.11/dist-packages (from matplotlib) (11.1.0)\n",
            "Requirement already satisfied: pyparsing>=2.3.1 in /usr/local/lib/python3.11/dist-packages (from matplotlib) (3.2.1)\n",
            "Requirement already satisfied: scipy>=1.6.0 in /usr/local/lib/python3.11/dist-packages (from scikit-learn) (1.13.1)\n",
            "Requirement already satisfied: threadpoolctl>=3.1.0 in /usr/local/lib/python3.11/dist-packages (from scikit-learn) (3.5.0)\n",
            "Requirement already satisfied: six>=1.5 in /usr/local/lib/python3.11/dist-packages (from python-dateutil>=2.8.2->pandas) (1.17.0)\n"
          ]
        }
      ],
      "source": [
        "!pip install numpy pandas joblib matplotlib scikit-learn tk"
      ]
    },
    {
      "cell_type": "code",
      "execution_count": 50,
      "metadata": {
        "id": "p_VOX5heSI7R",
        "colab": {
          "base_uri": "https://localhost:8080/"
        },
        "outputId": "94bdd26b-b042-463f-f40c-55f3d1f1aab9"
      },
      "outputs": [
        {
          "output_type": "stream",
          "name": "stdout",
          "text": [
            "Requirement already satisfied: flask in /usr/local/lib/python3.11/dist-packages (3.1.0)\n",
            "Requirement already satisfied: flask-ngrok in /usr/local/lib/python3.11/dist-packages (0.0.25)\n",
            "Requirement already satisfied: joblib in /usr/local/lib/python3.11/dist-packages (1.4.2)\n",
            "Requirement already satisfied: Werkzeug>=3.1 in /usr/local/lib/python3.11/dist-packages (from flask) (3.1.3)\n",
            "Requirement already satisfied: Jinja2>=3.1.2 in /usr/local/lib/python3.11/dist-packages (from flask) (3.1.5)\n",
            "Requirement already satisfied: itsdangerous>=2.2 in /usr/local/lib/python3.11/dist-packages (from flask) (2.2.0)\n",
            "Requirement already satisfied: click>=8.1.3 in /usr/local/lib/python3.11/dist-packages (from flask) (8.1.8)\n",
            "Requirement already satisfied: blinker>=1.9 in /usr/local/lib/python3.11/dist-packages (from flask) (1.9.0)\n",
            "Requirement already satisfied: requests in /usr/local/lib/python3.11/dist-packages (from flask-ngrok) (2.32.3)\n",
            "Requirement already satisfied: MarkupSafe>=2.0 in /usr/local/lib/python3.11/dist-packages (from Jinja2>=3.1.2->flask) (3.0.2)\n",
            "Requirement already satisfied: charset-normalizer<4,>=2 in /usr/local/lib/python3.11/dist-packages (from requests->flask-ngrok) (3.4.1)\n",
            "Requirement already satisfied: idna<4,>=2.5 in /usr/local/lib/python3.11/dist-packages (from requests->flask-ngrok) (3.10)\n",
            "Requirement already satisfied: urllib3<3,>=1.21.1 in /usr/local/lib/python3.11/dist-packages (from requests->flask-ngrok) (2.3.0)\n",
            "Requirement already satisfied: certifi>=2017.4.17 in /usr/local/lib/python3.11/dist-packages (from requests->flask-ngrok) (2025.1.31)\n"
          ]
        }
      ],
      "source": [
        "!pip install flask flask-ngrok joblib"
      ]
    },
    {
      "cell_type": "code",
      "source": [
        "!pip install pyngrok\n",
        "!ngrok authtoken 2tJcCOcKawyNHUrD3fx8ZGX7mqf_UpyxfMvX1tmYtgH2vSdR"
      ],
      "metadata": {
        "id": "ZQb77sBVgFtx",
        "colab": {
          "base_uri": "https://localhost:8080/"
        },
        "outputId": "b52a2542-6ccc-479f-b790-59e3d4dd6dd4"
      },
      "execution_count": 51,
      "outputs": [
        {
          "output_type": "stream",
          "name": "stdout",
          "text": [
            "Requirement already satisfied: pyngrok in /usr/local/lib/python3.11/dist-packages (7.2.3)\n",
            "Requirement already satisfied: PyYAML>=5.1 in /usr/local/lib/python3.11/dist-packages (from pyngrok) (6.0.2)\n",
            "Authtoken saved to configuration file: /root/.config/ngrok/ngrok.yml\n"
          ]
        }
      ]
    },
    {
      "cell_type": "markdown",
      "metadata": {
        "id": "xzNC-ssVmWov"
      },
      "source": [
        "\n",
        "\n",
        "---\n",
        "---\n",
        "* Importing Needed Libraries :\n",
        "\n",
        "\n",
        "\n",
        "---\n",
        "\n",
        "\n"
      ]
    },
    {
      "cell_type": "code",
      "execution_count": 52,
      "metadata": {
        "id": "naApF5QjV7V0"
      },
      "outputs": [],
      "source": [
        "import pandas as pd\n",
        "import numpy as np\n",
        "import joblib\n",
        "import os\n",
        "import seaborn as sns\n",
        "import matplotlib.pyplot as plt\n",
        "from sklearn.model_selection import train_test_split\n",
        "from imblearn.over_sampling import SMOTE\n",
        "from sklearn.preprocessing import StandardScaler, LabelEncoder, PolynomialFeatures\n",
        "from sklearn.linear_model import LinearRegression, LogisticRegression\n",
        "from sklearn.neighbors import KNeighborsClassifier\n",
        "from sklearn.metrics import accuracy_score, classification_report, confusion_matrix\n",
        "from scipy import stats\n",
        "from google.colab import files\n",
        "from flask import Flask, render_template, request\n",
        "from flask_ngrok import run_with_ngrok\n",
        "import joblib\n",
        "import datetime\n",
        "from pyngrok import ngrok"
      ]
    },
    {
      "cell_type": "markdown",
      "metadata": {
        "id": "FX3Sz0abmjIR"
      },
      "source": [
        "\n",
        "\n",
        "---\n",
        "* Loading the dataset :\n",
        "---\n",
        "\n"
      ]
    },
    {
      "cell_type": "code",
      "execution_count": 53,
      "metadata": {
        "id": "ff2ZyJJej_ba"
      },
      "outputs": [],
      "source": [
        "# Load dataset\n",
        "df=pd.read_csv('/content/first inten project.csv')"
      ]
    },
    {
      "cell_type": "markdown",
      "metadata": {
        "id": "B-rvXKjMmr9g"
      },
      "source": [
        "\n",
        "\n",
        "---\n",
        "* Dataset Preprocessing :\n",
        "  - Checking for Null values, DataTypes , Memory Usage  .  \n",
        "  - Checking for whiteSpaces and remove them  .\n",
        "---\n",
        "\n"
      ]
    },
    {
      "cell_type": "code",
      "execution_count": 54,
      "metadata": {
        "id": "rdNGe4YJkJYq",
        "colab": {
          "base_uri": "https://localhost:8080/"
        },
        "outputId": "300530d1-773b-4f01-9abb-f3a239828972"
      },
      "outputs": [
        {
          "output_type": "stream",
          "name": "stdout",
          "text": [
            "* Displaying the infos of the DataSet : \n",
            "<class 'pandas.core.frame.DataFrame'>\n",
            "RangeIndex: 36285 entries, 0 to 36284\n",
            "Data columns (total 17 columns):\n",
            " #   Column                    Non-Null Count  Dtype  \n",
            "---  ------                    --------------  -----  \n",
            " 0   Booking_ID                36285 non-null  object \n",
            " 1   number of adults          36285 non-null  int64  \n",
            " 2   number of children        36285 non-null  int64  \n",
            " 3   number of weekend nights  36285 non-null  int64  \n",
            " 4   number of week nights     36285 non-null  int64  \n",
            " 5   type of meal              36285 non-null  object \n",
            " 6   car parking space         36285 non-null  int64  \n",
            " 7   room type                 36285 non-null  object \n",
            " 8   lead time                 36285 non-null  int64  \n",
            " 9   market segment type       36285 non-null  object \n",
            " 10  repeated                  36285 non-null  int64  \n",
            " 11  P-C                       36285 non-null  int64  \n",
            " 12  P-not-C                   36285 non-null  int64  \n",
            " 13  average price             36285 non-null  float64\n",
            " 14  special requests          36285 non-null  int64  \n",
            " 15  date of reservation       36285 non-null  object \n",
            " 16  booking status            36285 non-null  object \n",
            "dtypes: float64(1), int64(10), object(6)\n",
            "memory usage: 4.7+ MB\n",
            "None\n",
            "#####################################################################################################################################\n",
            "* Checking for the existance of Null Values \n",
            "Booking_ID                  0\n",
            "number of adults            0\n",
            "number of children          0\n",
            "number of weekend nights    0\n",
            "number of week nights       0\n",
            "type of meal                0\n",
            "car parking space           0\n",
            "room type                   0\n",
            "lead time                   0\n",
            "market segment type         0\n",
            "repeated                    0\n",
            "P-C                         0\n",
            "P-not-C                     0\n",
            "average price               0\n",
            "special requests            0\n",
            "date of reservation         0\n",
            "booking status              0\n",
            "dtype: int64\n",
            "#####################################################################################################################################\n"
          ]
        }
      ],
      "source": [
        "# 1. Data Preprocessing\n",
        "print(\"* Displaying the infos of the DataSet : \")\n",
        "print(df.info())  # Check for null values and data types\n",
        "print(\"#####################################################################################################################################\")\n",
        "print(\"* Checking for the existance of Null Values \")\n",
        "print(df.isnull().sum())  # Check missing values\n",
        "print(\"#####################################################################################################################################\")\n",
        "df.columns = df.columns.str.strip()  # Remove white spaces in column names"
      ]
    },
    {
      "cell_type": "markdown",
      "metadata": {
        "id": "5Aghw8rJobW1"
      },
      "source": [
        "\n",
        "\n",
        "---\n",
        "* Convert to date time format:\n",
        "---\n",
        "\n"
      ]
    },
    {
      "cell_type": "code",
      "execution_count": 55,
      "metadata": {
        "id": "e0dPbigqn5yH",
        "colab": {
          "base_uri": "https://localhost:8080/"
        },
        "outputId": "4efc9ad1-6108-41a1-85d4-572b516a80fa"
      },
      "outputs": [
        {
          "output_type": "stream",
          "name": "stdout",
          "text": [
            "Rows with invalid dates: 37\n"
          ]
        }
      ],
      "source": [
        "# Ensure 'date of reservation' is a string before using .str accessor\n",
        "df['date of reservation'] = df['date of reservation'].astype(str)\n",
        "# Convert to datetime, handling errors\n",
        "df['date of reservation'] = pd.to_datetime(df['date of reservation'], errors='coerce')\n",
        "# Check for any NaT values (invalid dates)\n",
        "print(\"Rows with invalid dates:\", df['date of reservation'].isna().sum())\n",
        "#  drop NaT values\n",
        "df.dropna(subset=['date of reservation'], inplace=True)  # Drop invalid dates\n"
      ]
    },
    {
      "cell_type": "markdown",
      "metadata": {
        "id": "JunAXbPzpiuf"
      },
      "source": [
        "\n",
        "\n",
        "---\n",
        "* Checking for the existance of Outliers and handeling them :\n",
        "---\n",
        "\n"
      ]
    },
    {
      "cell_type": "code",
      "execution_count": 56,
      "metadata": {
        "id": "47yEoowtrQbB"
      },
      "outputs": [],
      "source": [
        "# 2. Checking for the existence of outliers and Handle them\n",
        "numeric_cols = df.select_dtypes(include=['int64', 'float64']).columns  # Select only numeric columns\n",
        "Q1 = df[numeric_cols].quantile(0.25)  # First quartile\n",
        "Q3 = df[numeric_cols].quantile(0.75)  # Third quartile\n",
        "IQR = Q3 - Q1                         # Interquartile range\n",
        "# Detecting outliers\n",
        "outlier_condition = (df[numeric_cols] < (Q1 - 1.5 * IQR)) | (df[numeric_cols] > (Q3 + 1.5 * IQR))\n",
        "# Replacing outliers with NaN\n",
        "df[numeric_cols] = df[numeric_cols].mask(outlier_condition, np.nan)\n",
        "# Fill NaN values **only for numeric columns** using median\n",
        "df[numeric_cols] = df[numeric_cols].apply(lambda col: col.fillna(col.median()))\n"
      ]
    },
    {
      "cell_type": "markdown",
      "metadata": {
        "id": "6aXUL9cdsCR9"
      },
      "source": [
        "\n",
        "\n",
        "---\n",
        "* Feature engineering selection and extraction :\n",
        "---\n",
        "\n"
      ]
    },
    {
      "cell_type": "code",
      "execution_count": 57,
      "metadata": {
        "id": "iGaAmoCEkQ6U"
      },
      "outputs": [],
      "source": [
        "# 3. Feature Engineering\n",
        "# Feature Selection (Dropping unnecessary features)\n",
        "df.drop(columns=['Booking_ID', 'date of reservation'], inplace=True)  # Booking ID and date might not be useful"
      ]
    },
    {
      "cell_type": "markdown",
      "metadata": {
        "id": "5ogy5hEPCB-o"
      },
      "source": [
        "\n",
        "\n",
        "---\n",
        "* Checking for Duplicates and remove them  :\n",
        "---\n",
        "\n"
      ]
    },
    {
      "cell_type": "code",
      "execution_count": 58,
      "metadata": {
        "id": "HU3Lu1nKCBLB",
        "colab": {
          "base_uri": "https://localhost:8080/"
        },
        "outputId": "900c5d89-829a-4528-d30b-faf3726c9def"
      },
      "outputs": [
        {
          "output_type": "stream",
          "name": "stdout",
          "text": [
            "Number of duplicate rows: 11541\n",
            "Duplicates removed. New shape of dataset: (24707, 15)\n"
          ]
        }
      ],
      "source": [
        "# Check for duplicate rows\n",
        "duplicate_count = df.duplicated().sum()\n",
        "print(f\"Number of duplicate rows: {duplicate_count}\")\n",
        "# Remove duplicate rows\n",
        "df = df.drop_duplicates()\n",
        "print(\"Duplicates removed. New shape of dataset:\", df.shape)"
      ]
    },
    {
      "cell_type": "markdown",
      "metadata": {
        "id": "nAkkSUuDsWSM"
      },
      "source": [
        "\n",
        "\n",
        "---\n",
        "* Encoding for categorical Data :\n",
        "\n",
        "---\n",
        "\n"
      ]
    },
    {
      "cell_type": "code",
      "execution_count": 59,
      "metadata": {
        "id": "Hf_Htlzhlhkl"
      },
      "outputs": [],
      "source": [
        "# 4. Encoding Categorical Data\n",
        "categorical_cols = df.select_dtypes(include=['object']).columns\n",
        "label_encoders = {}\n",
        "for col in categorical_cols:\n",
        "    le = LabelEncoder()\n",
        "    df[col] = le.fit_transform(df[col])\n",
        "    label_encoders[col] = le"
      ]
    },
    {
      "cell_type": "markdown",
      "metadata": {
        "id": "OIXuH-LCsh8h"
      },
      "source": [
        "\n",
        "\n",
        "---\n",
        "* Splitting the data into training , test and handling the imbalancing in classes :\n",
        "---\n",
        "\n"
      ]
    },
    {
      "cell_type": "code",
      "execution_count": 60,
      "metadata": {
        "id": "31zQlKdaMumr"
      },
      "outputs": [],
      "source": [
        "# 5. Train-Test Split\n",
        "X = df.drop(columns=['booking status'])  # Features\n",
        "y = df['booking status']  # Target\n",
        "\n",
        "# Train-Test Split (Stratified to maintain class distribution)\n",
        "X_train, X_test, y_train, y_test = train_test_split(X, y, test_size=0.3, random_state=42, stratify=y)\n",
        "\n",
        "# Apply SMOTE to the Training Set ONLY\n",
        "smote = SMOTE(sampling_strategy='auto', random_state=42)\n",
        "X_train, y_train = smote.fit_resample(X_train, y_train)"
      ]
    },
    {
      "cell_type": "markdown",
      "metadata": {
        "id": "V2037dxPtICP"
      },
      "source": [
        "\n",
        "\n",
        "---\n",
        "* Scalling and Fit transform for the data :\n",
        "---\n",
        "\n"
      ]
    },
    {
      "cell_type": "code",
      "execution_count": 61,
      "metadata": {
        "id": "JPMO6IqStSSl"
      },
      "outputs": [],
      "source": [
        "# Feature Scaling\n",
        "scaler = StandardScaler()\n",
        "X_train = scaler.fit_transform(X_train)\n",
        "X_test = scaler.transform(X_test)"
      ]
    },
    {
      "cell_type": "markdown",
      "metadata": {
        "id": "vFPAk92UtVvI"
      },
      "source": [
        "\n",
        "---\n",
        "* Models training and calculating accuracies and saving Models  :\n",
        "---\n",
        "\n"
      ]
    },
    {
      "cell_type": "code",
      "execution_count": 62,
      "metadata": {
        "id": "AdGpqJlMI5u7",
        "colab": {
          "base_uri": "https://localhost:8080/"
        },
        "outputId": "240ffd83-c11a-4c0b-cc00-afa77bb212cb"
      },
      "outputs": [
        {
          "output_type": "stream",
          "name": "stdout",
          "text": [
            "Linear Regression Accuracy: 0.7379\n",
            " Saved: Linear Regression Model\n",
            "#####################################################################################################################################\n",
            "Logistic Regression Accuracy: 0.7391\n",
            " Saved: Logistic Regression Model\n",
            "#####################################################################################################################################\n",
            "Polynomial Regression (Linear, Degree=2) Accuracy: 0.7382\n",
            " Saved: Polynomial Linear Regression (Degree=2) Model\n",
            "Polynomial Regression (Linear, Degree=3) Accuracy: 0.7614\n",
            " Saved: Polynomial Linear Regression (Degree=3) Model\n",
            "Polynomial Regression (Linear, Degree=4) Accuracy: 0.7846\n",
            " Saved: Polynomial Linear Regression (Degree=4) Model\n",
            "#####################################################################################################################################\n",
            "Polynomial Regression (Logistic, Degree=2) Accuracy: 0.7364\n",
            " Saved: Polynomial Logistic Regression (Degree=2) Model\n",
            "Polynomial Regression (Logistic, Degree=3) Accuracy: 0.7635\n",
            " Saved: Polynomial Logistic Regression (Degree=3) Model\n"
          ]
        },
        {
          "output_type": "stream",
          "name": "stderr",
          "text": [
            "/usr/local/lib/python3.11/dist-packages/sklearn/linear_model/_logistic.py:465: ConvergenceWarning: lbfgs failed to converge (status=1):\n",
            "STOP: TOTAL NO. of ITERATIONS REACHED LIMIT.\n",
            "\n",
            "Increase the number of iterations (max_iter) or scale the data as shown in:\n",
            "    https://scikit-learn.org/stable/modules/preprocessing.html\n",
            "Please also refer to the documentation for alternative solver options:\n",
            "    https://scikit-learn.org/stable/modules/linear_model.html#logistic-regression\n",
            "  n_iter_i = _check_optimize_result(\n"
          ]
        },
        {
          "output_type": "stream",
          "name": "stdout",
          "text": [
            "Polynomial Regression (Logistic, Degree=4) Accuracy: 0.7843\n",
            " Saved: Polynomial Logistic Regression (Degree=4) Model\n",
            "#####################################################################################################################################\n",
            "KNN Accuracy (k=3): 0.7506\n",
            " Saved: KNN (k=3) Model\n",
            "KNN Accuracy (k=5): 0.7580\n",
            " Saved: KNN (k=5) Model\n",
            "KNN Accuracy (k=7): 0.7703\n",
            " Saved: KNN (k=7) Model\n",
            "KNN Accuracy (k=9): 0.7723\n",
            " Saved: KNN (k=9) Model\n",
            "KNN Accuracy (k=11): 0.7707\n",
            " Saved: KNN (k=11) Model\n",
            "#####################################################################################################################################\n"
          ]
        }
      ],
      "source": [
        "if not os.path.exists(\"saved_models\"):\n",
        "    os.makedirs(\"saved_models\")\n",
        "# 6. Model Training and Accuracy Calculation\n",
        "##  Linear Regression with Threshold-Based Classification\n",
        "linear_model = LinearRegression()\n",
        "linear_model.fit(X_train,y_train)\n",
        "y_pred_linear = linear_model.predict(X_test)\n",
        "y_pred_linear = (y_pred_linear>= 0.5).astype(int)  # Apply threshold\n",
        "linear_accuracy = accuracy_score(y_test, y_pred_linear)\n",
        "print(f'Linear Regression Accuracy: {linear_accuracy:.4f}')\n",
        "joblib.dump(linear_model, \"saved_models/linear_regression.pkl\")  # Save model\n",
        "print(\" Saved: Linear Regression Model\")\n",
        "print(\"#####################################################################################################################################\")\n",
        "##  Logistic Regression\n",
        "logistic_model = LogisticRegression(max_iter=1000)\n",
        "logistic_model.fit(X_train,y_train)\n",
        "y_pred_logistic = logistic_model.predict(X_test)\n",
        "logistic_accuracy = accuracy_score(y_test, y_pred_logistic)\n",
        "print(f'Logistic Regression Accuracy: {logistic_accuracy:.4f}')\n",
        "joblib.dump(logistic_model, \"saved_models/logistic_regression.pkl\")  # Save model\n",
        "print(\" Saved: Logistic Regression Model\")\n",
        "print(\"#####################################################################################################################################\")\n",
        "## Polynomial Regression (Linear)\n",
        "degrees = [2, 3, 4]\n",
        "poly_Linear_accuracies = []\n",
        "for d in degrees:\n",
        "    poly = PolynomialFeatures(degree=d)\n",
        "    X_train_poly = poly.fit_transform(X_train)\n",
        "    X_test_poly = poly.transform(X_test)\n",
        "    poly_linear_model = LinearRegression()\n",
        "    poly_linear_model.fit(X_train_poly, y_train)\n",
        "    y_pred_poly_linear = (poly_linear_model.predict(X_test_poly) >= 0.5).astype(int)  # Apply threshold\n",
        "    accuracy = accuracy_score(y_test, y_pred_poly_linear)\n",
        "    poly_Linear_accuracies.append(accuracy)\n",
        "    print(f'Polynomial Regression (Linear, Degree={d}) Accuracy: {accuracy:.4f}')\n",
        "    joblib.dump(poly_linear_model, f\"saved_models/poly_linear_d{d}.pkl\")  # Save model\n",
        "    print(f\" Saved: Polynomial Linear Regression (Degree={d}) Model\")\n",
        "print(\"#####################################################################################################################################\")\n",
        "## Polynomial Regression (Logistic)\n",
        "poly_Logistic_accuracies = []\n",
        "for d in degrees:\n",
        "    poly = PolynomialFeatures(degree=d)\n",
        "    X_train_poly = poly.fit_transform(X_train)\n",
        "    X_test_poly = poly.transform(X_test)\n",
        "    poly_model = LogisticRegression(max_iter=1000)\n",
        "    poly_model.fit(X_train_poly, y_train)\n",
        "    y_pred_poly = poly_model.predict(X_test_poly)\n",
        "    poly_logistic_accuracy = accuracy_score(y_test, y_pred_poly)\n",
        "    poly_Logistic_accuracies.append(poly_logistic_accuracy)\n",
        "    print(f'Polynomial Regression (Logistic, Degree={d}) Accuracy: {poly_logistic_accuracy:.4f}')\n",
        "    joblib.dump(poly_model, f\"saved_models/poly_logistic_d{d}.pkl\")  # Save model\n",
        "    print(f\" Saved: Polynomial Logistic Regression (Degree={d}) Model\")\n",
        "\n",
        "print(\"#####################################################################################################################################\")\n",
        "##  K-Nearest Neighbors (KNN)\n",
        "neighbors = [3, 5, 7, 9, 11]\n",
        "knn_accuracies = []\n",
        "for k in neighbors:\n",
        "    knn_model = KNeighborsClassifier(n_neighbors=k)\n",
        "    knn_model.fit(X_train, y_train)\n",
        "    y_pred_knn = knn_model.predict(X_test)\n",
        "    accuracy = accuracy_score(y_test, y_pred_knn)\n",
        "    knn_accuracies.append(accuracy)\n",
        "    print(f'KNN Accuracy (k={k}): {accuracy:.4f}')\n",
        "    joblib.dump(knn_model, f\"saved_models/knn_k{k}.pkl\")  # Save model\n",
        "    print(f\" Saved: KNN (k={k}) Model\")\n",
        "print(\"#####################################################################################################################################\")\n"
      ]
    },
    {
      "cell_type": "markdown",
      "metadata": {
        "id": "4nHSD8ltN4FU"
      },
      "source": [
        "\n",
        "\n",
        "---\n",
        "* Models Downloading :\n",
        "---\n",
        "\n"
      ]
    },
    {
      "cell_type": "code",
      "execution_count": 63,
      "metadata": {
        "id": "tsyNdQKODb-Q",
        "colab": {
          "base_uri": "https://localhost:8080/",
          "height": 243
        },
        "outputId": "73363300-4fab-473c-dc77-6fadd76f5d06"
      },
      "outputs": [
        {
          "output_type": "display_data",
          "data": {
            "text/plain": [
              "<IPython.core.display.Javascript object>"
            ],
            "application/javascript": [
              "\n",
              "    async function download(id, filename, size) {\n",
              "      if (!google.colab.kernel.accessAllowed) {\n",
              "        return;\n",
              "      }\n",
              "      const div = document.createElement('div');\n",
              "      const label = document.createElement('label');\n",
              "      label.textContent = `Downloading \"${filename}\": `;\n",
              "      div.appendChild(label);\n",
              "      const progress = document.createElement('progress');\n",
              "      progress.max = size;\n",
              "      div.appendChild(progress);\n",
              "      document.body.appendChild(div);\n",
              "\n",
              "      const buffers = [];\n",
              "      let downloaded = 0;\n",
              "\n",
              "      const channel = await google.colab.kernel.comms.open(id);\n",
              "      // Send a message to notify the kernel that we're ready.\n",
              "      channel.send({})\n",
              "\n",
              "      for await (const message of channel.messages) {\n",
              "        // Send a message to notify the kernel that we're ready.\n",
              "        channel.send({})\n",
              "        if (message.buffers) {\n",
              "          for (const buffer of message.buffers) {\n",
              "            buffers.push(buffer);\n",
              "            downloaded += buffer.byteLength;\n",
              "            progress.value = downloaded;\n",
              "          }\n",
              "        }\n",
              "      }\n",
              "      const blob = new Blob(buffers, {type: 'application/binary'});\n",
              "      const a = document.createElement('a');\n",
              "      a.href = window.URL.createObjectURL(blob);\n",
              "      a.download = filename;\n",
              "      div.appendChild(a);\n",
              "      a.click();\n",
              "      div.remove();\n",
              "    }\n",
              "  "
            ]
          },
          "metadata": {}
        },
        {
          "output_type": "display_data",
          "data": {
            "text/plain": [
              "<IPython.core.display.Javascript object>"
            ],
            "application/javascript": [
              "download(\"download_6fae66e9-b4ee-447c-951b-6ec752ac6f2b\", \"linear_regression.pkl\", 776)"
            ]
          },
          "metadata": {}
        },
        {
          "output_type": "stream",
          "name": "stdout",
          "text": [
            "Downloaded: linear_regression.pkl\n"
          ]
        },
        {
          "output_type": "display_data",
          "data": {
            "text/plain": [
              "<IPython.core.display.Javascript object>"
            ],
            "application/javascript": [
              "\n",
              "    async function download(id, filename, size) {\n",
              "      if (!google.colab.kernel.accessAllowed) {\n",
              "        return;\n",
              "      }\n",
              "      const div = document.createElement('div');\n",
              "      const label = document.createElement('label');\n",
              "      label.textContent = `Downloading \"${filename}\": `;\n",
              "      div.appendChild(label);\n",
              "      const progress = document.createElement('progress');\n",
              "      progress.max = size;\n",
              "      div.appendChild(progress);\n",
              "      document.body.appendChild(div);\n",
              "\n",
              "      const buffers = [];\n",
              "      let downloaded = 0;\n",
              "\n",
              "      const channel = await google.colab.kernel.comms.open(id);\n",
              "      // Send a message to notify the kernel that we're ready.\n",
              "      channel.send({})\n",
              "\n",
              "      for await (const message of channel.messages) {\n",
              "        // Send a message to notify the kernel that we're ready.\n",
              "        channel.send({})\n",
              "        if (message.buffers) {\n",
              "          for (const buffer of message.buffers) {\n",
              "            buffers.push(buffer);\n",
              "            downloaded += buffer.byteLength;\n",
              "            progress.value = downloaded;\n",
              "          }\n",
              "        }\n",
              "      }\n",
              "      const blob = new Blob(buffers, {type: 'application/binary'});\n",
              "      const a = document.createElement('a');\n",
              "      a.href = window.URL.createObjectURL(blob);\n",
              "      a.download = filename;\n",
              "      div.appendChild(a);\n",
              "      a.click();\n",
              "      div.remove();\n",
              "    }\n",
              "  "
            ]
          },
          "metadata": {}
        },
        {
          "output_type": "display_data",
          "data": {
            "text/plain": [
              "<IPython.core.display.Javascript object>"
            ],
            "application/javascript": [
              "download(\"download_0ebfa4aa-e698-4576-b580-7625c6f42b4e\", \"logistic_regression.pkl\", 975)"
            ]
          },
          "metadata": {}
        },
        {
          "output_type": "stream",
          "name": "stdout",
          "text": [
            "Downloaded: logistic_regression.pkl\n"
          ]
        },
        {
          "output_type": "display_data",
          "data": {
            "text/plain": [
              "<IPython.core.display.Javascript object>"
            ],
            "application/javascript": [
              "\n",
              "    async function download(id, filename, size) {\n",
              "      if (!google.colab.kernel.accessAllowed) {\n",
              "        return;\n",
              "      }\n",
              "      const div = document.createElement('div');\n",
              "      const label = document.createElement('label');\n",
              "      label.textContent = `Downloading \"${filename}\": `;\n",
              "      div.appendChild(label);\n",
              "      const progress = document.createElement('progress');\n",
              "      progress.max = size;\n",
              "      div.appendChild(progress);\n",
              "      document.body.appendChild(div);\n",
              "\n",
              "      const buffers = [];\n",
              "      let downloaded = 0;\n",
              "\n",
              "      const channel = await google.colab.kernel.comms.open(id);\n",
              "      // Send a message to notify the kernel that we're ready.\n",
              "      channel.send({})\n",
              "\n",
              "      for await (const message of channel.messages) {\n",
              "        // Send a message to notify the kernel that we're ready.\n",
              "        channel.send({})\n",
              "        if (message.buffers) {\n",
              "          for (const buffer of message.buffers) {\n",
              "            buffers.push(buffer);\n",
              "            downloaded += buffer.byteLength;\n",
              "            progress.value = downloaded;\n",
              "          }\n",
              "        }\n",
              "      }\n",
              "      const blob = new Blob(buffers, {type: 'application/binary'});\n",
              "      const a = document.createElement('a');\n",
              "      a.href = window.URL.createObjectURL(blob);\n",
              "      a.download = filename;\n",
              "      div.appendChild(a);\n",
              "      a.click();\n",
              "      div.remove();\n",
              "    }\n",
              "  "
            ]
          },
          "metadata": {}
        },
        {
          "output_type": "display_data",
          "data": {
            "text/plain": [
              "<IPython.core.display.Javascript object>"
            ],
            "application/javascript": [
              "download(\"download_eafa8433-3f43-4d63-a6eb-f5de4a3b0a37\", \"poly_linear_d2.pkl\", 2472)"
            ]
          },
          "metadata": {}
        },
        {
          "output_type": "stream",
          "name": "stdout",
          "text": [
            "Downloaded: poly_linear_d2.pkl\n"
          ]
        },
        {
          "output_type": "display_data",
          "data": {
            "text/plain": [
              "<IPython.core.display.Javascript object>"
            ],
            "application/javascript": [
              "\n",
              "    async function download(id, filename, size) {\n",
              "      if (!google.colab.kernel.accessAllowed) {\n",
              "        return;\n",
              "      }\n",
              "      const div = document.createElement('div');\n",
              "      const label = document.createElement('label');\n",
              "      label.textContent = `Downloading \"${filename}\": `;\n",
              "      div.appendChild(label);\n",
              "      const progress = document.createElement('progress');\n",
              "      progress.max = size;\n",
              "      div.appendChild(progress);\n",
              "      document.body.appendChild(div);\n",
              "\n",
              "      const buffers = [];\n",
              "      let downloaded = 0;\n",
              "\n",
              "      const channel = await google.colab.kernel.comms.open(id);\n",
              "      // Send a message to notify the kernel that we're ready.\n",
              "      channel.send({})\n",
              "\n",
              "      for await (const message of channel.messages) {\n",
              "        // Send a message to notify the kernel that we're ready.\n",
              "        channel.send({})\n",
              "        if (message.buffers) {\n",
              "          for (const buffer of message.buffers) {\n",
              "            buffers.push(buffer);\n",
              "            downloaded += buffer.byteLength;\n",
              "            progress.value = downloaded;\n",
              "          }\n",
              "        }\n",
              "      }\n",
              "      const blob = new Blob(buffers, {type: 'application/binary'});\n",
              "      const a = document.createElement('a');\n",
              "      a.href = window.URL.createObjectURL(blob);\n",
              "      a.download = filename;\n",
              "      div.appendChild(a);\n",
              "      a.click();\n",
              "      div.remove();\n",
              "    }\n",
              "  "
            ]
          },
          "metadata": {}
        },
        {
          "output_type": "display_data",
          "data": {
            "text/plain": [
              "<IPython.core.display.Javascript object>"
            ],
            "application/javascript": [
              "download(\"download_51b944df-4e40-4723-8751-db45b3a3ad35\", \"poly_logistic_d2.pkl\", 1823)"
            ]
          },
          "metadata": {}
        },
        {
          "output_type": "stream",
          "name": "stdout",
          "text": [
            "Downloaded: poly_logistic_d2.pkl\n"
          ]
        },
        {
          "output_type": "display_data",
          "data": {
            "text/plain": [
              "<IPython.core.display.Javascript object>"
            ],
            "application/javascript": [
              "\n",
              "    async function download(id, filename, size) {\n",
              "      if (!google.colab.kernel.accessAllowed) {\n",
              "        return;\n",
              "      }\n",
              "      const div = document.createElement('div');\n",
              "      const label = document.createElement('label');\n",
              "      label.textContent = `Downloading \"${filename}\": `;\n",
              "      div.appendChild(label);\n",
              "      const progress = document.createElement('progress');\n",
              "      progress.max = size;\n",
              "      div.appendChild(progress);\n",
              "      document.body.appendChild(div);\n",
              "\n",
              "      const buffers = [];\n",
              "      let downloaded = 0;\n",
              "\n",
              "      const channel = await google.colab.kernel.comms.open(id);\n",
              "      // Send a message to notify the kernel that we're ready.\n",
              "      channel.send({})\n",
              "\n",
              "      for await (const message of channel.messages) {\n",
              "        // Send a message to notify the kernel that we're ready.\n",
              "        channel.send({})\n",
              "        if (message.buffers) {\n",
              "          for (const buffer of message.buffers) {\n",
              "            buffers.push(buffer);\n",
              "            downloaded += buffer.byteLength;\n",
              "            progress.value = downloaded;\n",
              "          }\n",
              "        }\n",
              "      }\n",
              "      const blob = new Blob(buffers, {type: 'application/binary'});\n",
              "      const a = document.createElement('a');\n",
              "      a.href = window.URL.createObjectURL(blob);\n",
              "      a.download = filename;\n",
              "      div.appendChild(a);\n",
              "      a.click();\n",
              "      div.remove();\n",
              "    }\n",
              "  "
            ]
          },
          "metadata": {}
        },
        {
          "output_type": "display_data",
          "data": {
            "text/plain": [
              "<IPython.core.display.Javascript object>"
            ],
            "application/javascript": [
              "download(\"download_36302410-e02d-4a2c-9bde-cfda5556e6b3\", \"poly_linear_d3.pkl\", 11432)"
            ]
          },
          "metadata": {}
        },
        {
          "output_type": "stream",
          "name": "stdout",
          "text": [
            "Downloaded: poly_linear_d3.pkl\n"
          ]
        },
        {
          "output_type": "display_data",
          "data": {
            "text/plain": [
              "<IPython.core.display.Javascript object>"
            ],
            "application/javascript": [
              "\n",
              "    async function download(id, filename, size) {\n",
              "      if (!google.colab.kernel.accessAllowed) {\n",
              "        return;\n",
              "      }\n",
              "      const div = document.createElement('div');\n",
              "      const label = document.createElement('label');\n",
              "      label.textContent = `Downloading \"${filename}\": `;\n",
              "      div.appendChild(label);\n",
              "      const progress = document.createElement('progress');\n",
              "      progress.max = size;\n",
              "      div.appendChild(progress);\n",
              "      document.body.appendChild(div);\n",
              "\n",
              "      const buffers = [];\n",
              "      let downloaded = 0;\n",
              "\n",
              "      const channel = await google.colab.kernel.comms.open(id);\n",
              "      // Send a message to notify the kernel that we're ready.\n",
              "      channel.send({})\n",
              "\n",
              "      for await (const message of channel.messages) {\n",
              "        // Send a message to notify the kernel that we're ready.\n",
              "        channel.send({})\n",
              "        if (message.buffers) {\n",
              "          for (const buffer of message.buffers) {\n",
              "            buffers.push(buffer);\n",
              "            downloaded += buffer.byteLength;\n",
              "            progress.value = downloaded;\n",
              "          }\n",
              "        }\n",
              "      }\n",
              "      const blob = new Blob(buffers, {type: 'application/binary'});\n",
              "      const a = document.createElement('a');\n",
              "      a.href = window.URL.createObjectURL(blob);\n",
              "      a.download = filename;\n",
              "      div.appendChild(a);\n",
              "      a.click();\n",
              "      div.remove();\n",
              "    }\n",
              "  "
            ]
          },
          "metadata": {}
        },
        {
          "output_type": "display_data",
          "data": {
            "text/plain": [
              "<IPython.core.display.Javascript object>"
            ],
            "application/javascript": [
              "download(\"download_dc025459-5d64-4305-8360-935208789ee4\", \"poly_logistic_d3.pkl\", 6303)"
            ]
          },
          "metadata": {}
        },
        {
          "output_type": "stream",
          "name": "stdout",
          "text": [
            "Downloaded: poly_logistic_d3.pkl\n"
          ]
        },
        {
          "output_type": "display_data",
          "data": {
            "text/plain": [
              "<IPython.core.display.Javascript object>"
            ],
            "application/javascript": [
              "\n",
              "    async function download(id, filename, size) {\n",
              "      if (!google.colab.kernel.accessAllowed) {\n",
              "        return;\n",
              "      }\n",
              "      const div = document.createElement('div');\n",
              "      const label = document.createElement('label');\n",
              "      label.textContent = `Downloading \"${filename}\": `;\n",
              "      div.appendChild(label);\n",
              "      const progress = document.createElement('progress');\n",
              "      progress.max = size;\n",
              "      div.appendChild(progress);\n",
              "      document.body.appendChild(div);\n",
              "\n",
              "      const buffers = [];\n",
              "      let downloaded = 0;\n",
              "\n",
              "      const channel = await google.colab.kernel.comms.open(id);\n",
              "      // Send a message to notify the kernel that we're ready.\n",
              "      channel.send({})\n",
              "\n",
              "      for await (const message of channel.messages) {\n",
              "        // Send a message to notify the kernel that we're ready.\n",
              "        channel.send({})\n",
              "        if (message.buffers) {\n",
              "          for (const buffer of message.buffers) {\n",
              "            buffers.push(buffer);\n",
              "            downloaded += buffer.byteLength;\n",
              "            progress.value = downloaded;\n",
              "          }\n",
              "        }\n",
              "      }\n",
              "      const blob = new Blob(buffers, {type: 'application/binary'});\n",
              "      const a = document.createElement('a');\n",
              "      a.href = window.URL.createObjectURL(blob);\n",
              "      a.download = filename;\n",
              "      div.appendChild(a);\n",
              "      a.click();\n",
              "      div.remove();\n",
              "    }\n",
              "  "
            ]
          },
          "metadata": {}
        },
        {
          "output_type": "display_data",
          "data": {
            "text/plain": [
              "<IPython.core.display.Javascript object>"
            ],
            "application/javascript": [
              "download(\"download_99f4d810-e45e-4fbd-aaa0-336b16d14244\", \"poly_linear_d4.pkl\", 49512)"
            ]
          },
          "metadata": {}
        },
        {
          "output_type": "stream",
          "name": "stdout",
          "text": [
            "Downloaded: poly_linear_d4.pkl\n"
          ]
        },
        {
          "output_type": "display_data",
          "data": {
            "text/plain": [
              "<IPython.core.display.Javascript object>"
            ],
            "application/javascript": [
              "\n",
              "    async function download(id, filename, size) {\n",
              "      if (!google.colab.kernel.accessAllowed) {\n",
              "        return;\n",
              "      }\n",
              "      const div = document.createElement('div');\n",
              "      const label = document.createElement('label');\n",
              "      label.textContent = `Downloading \"${filename}\": `;\n",
              "      div.appendChild(label);\n",
              "      const progress = document.createElement('progress');\n",
              "      progress.max = size;\n",
              "      div.appendChild(progress);\n",
              "      document.body.appendChild(div);\n",
              "\n",
              "      const buffers = [];\n",
              "      let downloaded = 0;\n",
              "\n",
              "      const channel = await google.colab.kernel.comms.open(id);\n",
              "      // Send a message to notify the kernel that we're ready.\n",
              "      channel.send({})\n",
              "\n",
              "      for await (const message of channel.messages) {\n",
              "        // Send a message to notify the kernel that we're ready.\n",
              "        channel.send({})\n",
              "        if (message.buffers) {\n",
              "          for (const buffer of message.buffers) {\n",
              "            buffers.push(buffer);\n",
              "            downloaded += buffer.byteLength;\n",
              "            progress.value = downloaded;\n",
              "          }\n",
              "        }\n",
              "      }\n",
              "      const blob = new Blob(buffers, {type: 'application/binary'});\n",
              "      const a = document.createElement('a');\n",
              "      a.href = window.URL.createObjectURL(blob);\n",
              "      a.download = filename;\n",
              "      div.appendChild(a);\n",
              "      a.click();\n",
              "      div.remove();\n",
              "    }\n",
              "  "
            ]
          },
          "metadata": {}
        },
        {
          "output_type": "display_data",
          "data": {
            "text/plain": [
              "<IPython.core.display.Javascript object>"
            ],
            "application/javascript": [
              "download(\"download_6891e2d3-2f84-45bd-8892-4fb2699db8d1\", \"poly_logistic_d4.pkl\", 25343)"
            ]
          },
          "metadata": {}
        },
        {
          "output_type": "stream",
          "name": "stdout",
          "text": [
            "Downloaded: poly_logistic_d4.pkl\n"
          ]
        },
        {
          "output_type": "display_data",
          "data": {
            "text/plain": [
              "<IPython.core.display.Javascript object>"
            ],
            "application/javascript": [
              "\n",
              "    async function download(id, filename, size) {\n",
              "      if (!google.colab.kernel.accessAllowed) {\n",
              "        return;\n",
              "      }\n",
              "      const div = document.createElement('div');\n",
              "      const label = document.createElement('label');\n",
              "      label.textContent = `Downloading \"${filename}\": `;\n",
              "      div.appendChild(label);\n",
              "      const progress = document.createElement('progress');\n",
              "      progress.max = size;\n",
              "      div.appendChild(progress);\n",
              "      document.body.appendChild(div);\n",
              "\n",
              "      const buffers = [];\n",
              "      let downloaded = 0;\n",
              "\n",
              "      const channel = await google.colab.kernel.comms.open(id);\n",
              "      // Send a message to notify the kernel that we're ready.\n",
              "      channel.send({})\n",
              "\n",
              "      for await (const message of channel.messages) {\n",
              "        // Send a message to notify the kernel that we're ready.\n",
              "        channel.send({})\n",
              "        if (message.buffers) {\n",
              "          for (const buffer of message.buffers) {\n",
              "            buffers.push(buffer);\n",
              "            downloaded += buffer.byteLength;\n",
              "            progress.value = downloaded;\n",
              "          }\n",
              "        }\n",
              "      }\n",
              "      const blob = new Blob(buffers, {type: 'application/binary'});\n",
              "      const a = document.createElement('a');\n",
              "      a.href = window.URL.createObjectURL(blob);\n",
              "      a.download = filename;\n",
              "      div.appendChild(a);\n",
              "      a.click();\n",
              "      div.remove();\n",
              "    }\n",
              "  "
            ]
          },
          "metadata": {}
        },
        {
          "output_type": "display_data",
          "data": {
            "text/plain": [
              "<IPython.core.display.Javascript object>"
            ],
            "application/javascript": [
              "download(\"download_b21ff148-acd2-42f7-81a1-487fb45ef976\", \"knn_k3.pkl\", 6109766)"
            ]
          },
          "metadata": {}
        },
        {
          "output_type": "stream",
          "name": "stdout",
          "text": [
            "Downloaded: knn_k3.pkl\n"
          ]
        },
        {
          "output_type": "display_data",
          "data": {
            "text/plain": [
              "<IPython.core.display.Javascript object>"
            ],
            "application/javascript": [
              "\n",
              "    async function download(id, filename, size) {\n",
              "      if (!google.colab.kernel.accessAllowed) {\n",
              "        return;\n",
              "      }\n",
              "      const div = document.createElement('div');\n",
              "      const label = document.createElement('label');\n",
              "      label.textContent = `Downloading \"${filename}\": `;\n",
              "      div.appendChild(label);\n",
              "      const progress = document.createElement('progress');\n",
              "      progress.max = size;\n",
              "      div.appendChild(progress);\n",
              "      document.body.appendChild(div);\n",
              "\n",
              "      const buffers = [];\n",
              "      let downloaded = 0;\n",
              "\n",
              "      const channel = await google.colab.kernel.comms.open(id);\n",
              "      // Send a message to notify the kernel that we're ready.\n",
              "      channel.send({})\n",
              "\n",
              "      for await (const message of channel.messages) {\n",
              "        // Send a message to notify the kernel that we're ready.\n",
              "        channel.send({})\n",
              "        if (message.buffers) {\n",
              "          for (const buffer of message.buffers) {\n",
              "            buffers.push(buffer);\n",
              "            downloaded += buffer.byteLength;\n",
              "            progress.value = downloaded;\n",
              "          }\n",
              "        }\n",
              "      }\n",
              "      const blob = new Blob(buffers, {type: 'application/binary'});\n",
              "      const a = document.createElement('a');\n",
              "      a.href = window.URL.createObjectURL(blob);\n",
              "      a.download = filename;\n",
              "      div.appendChild(a);\n",
              "      a.click();\n",
              "      div.remove();\n",
              "    }\n",
              "  "
            ]
          },
          "metadata": {}
        },
        {
          "output_type": "display_data",
          "data": {
            "text/plain": [
              "<IPython.core.display.Javascript object>"
            ],
            "application/javascript": [
              "download(\"download_e76b5241-7a01-43e3-8c18-2f38336d1588\", \"knn_k5.pkl\", 6109766)"
            ]
          },
          "metadata": {}
        },
        {
          "output_type": "stream",
          "name": "stdout",
          "text": [
            "Downloaded: knn_k5.pkl\n"
          ]
        },
        {
          "output_type": "display_data",
          "data": {
            "text/plain": [
              "<IPython.core.display.Javascript object>"
            ],
            "application/javascript": [
              "\n",
              "    async function download(id, filename, size) {\n",
              "      if (!google.colab.kernel.accessAllowed) {\n",
              "        return;\n",
              "      }\n",
              "      const div = document.createElement('div');\n",
              "      const label = document.createElement('label');\n",
              "      label.textContent = `Downloading \"${filename}\": `;\n",
              "      div.appendChild(label);\n",
              "      const progress = document.createElement('progress');\n",
              "      progress.max = size;\n",
              "      div.appendChild(progress);\n",
              "      document.body.appendChild(div);\n",
              "\n",
              "      const buffers = [];\n",
              "      let downloaded = 0;\n",
              "\n",
              "      const channel = await google.colab.kernel.comms.open(id);\n",
              "      // Send a message to notify the kernel that we're ready.\n",
              "      channel.send({})\n",
              "\n",
              "      for await (const message of channel.messages) {\n",
              "        // Send a message to notify the kernel that we're ready.\n",
              "        channel.send({})\n",
              "        if (message.buffers) {\n",
              "          for (const buffer of message.buffers) {\n",
              "            buffers.push(buffer);\n",
              "            downloaded += buffer.byteLength;\n",
              "            progress.value = downloaded;\n",
              "          }\n",
              "        }\n",
              "      }\n",
              "      const blob = new Blob(buffers, {type: 'application/binary'});\n",
              "      const a = document.createElement('a');\n",
              "      a.href = window.URL.createObjectURL(blob);\n",
              "      a.download = filename;\n",
              "      div.appendChild(a);\n",
              "      a.click();\n",
              "      div.remove();\n",
              "    }\n",
              "  "
            ]
          },
          "metadata": {}
        },
        {
          "output_type": "display_data",
          "data": {
            "text/plain": [
              "<IPython.core.display.Javascript object>"
            ],
            "application/javascript": [
              "download(\"download_4d3a5015-89a4-4192-a575-9ce857118803\", \"knn_k7.pkl\", 6109766)"
            ]
          },
          "metadata": {}
        },
        {
          "output_type": "stream",
          "name": "stdout",
          "text": [
            "Downloaded: knn_k7.pkl\n"
          ]
        },
        {
          "output_type": "display_data",
          "data": {
            "text/plain": [
              "<IPython.core.display.Javascript object>"
            ],
            "application/javascript": [
              "\n",
              "    async function download(id, filename, size) {\n",
              "      if (!google.colab.kernel.accessAllowed) {\n",
              "        return;\n",
              "      }\n",
              "      const div = document.createElement('div');\n",
              "      const label = document.createElement('label');\n",
              "      label.textContent = `Downloading \"${filename}\": `;\n",
              "      div.appendChild(label);\n",
              "      const progress = document.createElement('progress');\n",
              "      progress.max = size;\n",
              "      div.appendChild(progress);\n",
              "      document.body.appendChild(div);\n",
              "\n",
              "      const buffers = [];\n",
              "      let downloaded = 0;\n",
              "\n",
              "      const channel = await google.colab.kernel.comms.open(id);\n",
              "      // Send a message to notify the kernel that we're ready.\n",
              "      channel.send({})\n",
              "\n",
              "      for await (const message of channel.messages) {\n",
              "        // Send a message to notify the kernel that we're ready.\n",
              "        channel.send({})\n",
              "        if (message.buffers) {\n",
              "          for (const buffer of message.buffers) {\n",
              "            buffers.push(buffer);\n",
              "            downloaded += buffer.byteLength;\n",
              "            progress.value = downloaded;\n",
              "          }\n",
              "        }\n",
              "      }\n",
              "      const blob = new Blob(buffers, {type: 'application/binary'});\n",
              "      const a = document.createElement('a');\n",
              "      a.href = window.URL.createObjectURL(blob);\n",
              "      a.download = filename;\n",
              "      div.appendChild(a);\n",
              "      a.click();\n",
              "      div.remove();\n",
              "    }\n",
              "  "
            ]
          },
          "metadata": {}
        },
        {
          "output_type": "display_data",
          "data": {
            "text/plain": [
              "<IPython.core.display.Javascript object>"
            ],
            "application/javascript": [
              "download(\"download_ac52b038-0d28-4b21-b4de-0dc5715104e7\", \"knn_k9.pkl\", 6109766)"
            ]
          },
          "metadata": {}
        },
        {
          "output_type": "stream",
          "name": "stdout",
          "text": [
            "Downloaded: knn_k9.pkl\n"
          ]
        },
        {
          "output_type": "display_data",
          "data": {
            "text/plain": [
              "<IPython.core.display.Javascript object>"
            ],
            "application/javascript": [
              "\n",
              "    async function download(id, filename, size) {\n",
              "      if (!google.colab.kernel.accessAllowed) {\n",
              "        return;\n",
              "      }\n",
              "      const div = document.createElement('div');\n",
              "      const label = document.createElement('label');\n",
              "      label.textContent = `Downloading \"${filename}\": `;\n",
              "      div.appendChild(label);\n",
              "      const progress = document.createElement('progress');\n",
              "      progress.max = size;\n",
              "      div.appendChild(progress);\n",
              "      document.body.appendChild(div);\n",
              "\n",
              "      const buffers = [];\n",
              "      let downloaded = 0;\n",
              "\n",
              "      const channel = await google.colab.kernel.comms.open(id);\n",
              "      // Send a message to notify the kernel that we're ready.\n",
              "      channel.send({})\n",
              "\n",
              "      for await (const message of channel.messages) {\n",
              "        // Send a message to notify the kernel that we're ready.\n",
              "        channel.send({})\n",
              "        if (message.buffers) {\n",
              "          for (const buffer of message.buffers) {\n",
              "            buffers.push(buffer);\n",
              "            downloaded += buffer.byteLength;\n",
              "            progress.value = downloaded;\n",
              "          }\n",
              "        }\n",
              "      }\n",
              "      const blob = new Blob(buffers, {type: 'application/binary'});\n",
              "      const a = document.createElement('a');\n",
              "      a.href = window.URL.createObjectURL(blob);\n",
              "      a.download = filename;\n",
              "      div.appendChild(a);\n",
              "      a.click();\n",
              "      div.remove();\n",
              "    }\n",
              "  "
            ]
          },
          "metadata": {}
        },
        {
          "output_type": "display_data",
          "data": {
            "text/plain": [
              "<IPython.core.display.Javascript object>"
            ],
            "application/javascript": [
              "download(\"download_5def88b0-5eb6-481c-8da9-57a5618868c3\", \"knn_k11.pkl\", 6109766)"
            ]
          },
          "metadata": {}
        },
        {
          "output_type": "stream",
          "name": "stdout",
          "text": [
            "Downloaded: knn_k11.pkl\n"
          ]
        }
      ],
      "source": [
        "# Define the folder where models are saved\n",
        "model_folder = \"saved_models\"\n",
        "# Function to download a file if it exists\n",
        "def download_file(filename):\n",
        "    filepath = os.path.join(model_folder, filename)\n",
        "    if os.path.exists(filepath):\n",
        "        files.download(filepath)\n",
        "        print(f\"Downloaded: {filename}\")\n",
        "    else:\n",
        "        print(f\"File not found: {filename}\")\n",
        "\n",
        "#  Download Linear & Logistic Regression Models\n",
        "download_file(\"linear_regression.pkl\")\n",
        "download_file(\"logistic_regression.pkl\")\n",
        "\n",
        "#  Download Polynomial Regression Models\n",
        "for d in [2, 3, 4]:\n",
        "    download_file(f\"poly_linear_d{d}.pkl\")\n",
        "    download_file(f\"poly_logistic_d{d}.pkl\")\n",
        "\n",
        "#  Download KNN Models\n",
        "for k in [3, 5, 7, 9, 11]:\n",
        "    download_file(f\"knn_k{k}.pkl\")"
      ]
    },
    {
      "cell_type": "markdown",
      "metadata": {
        "id": "M-Dqxh_BVfoP"
      },
      "source": [
        "\n",
        "\n",
        "---\n",
        "* Creating the web app using Flask :\n",
        "---\n",
        "\n"
      ]
    },
    {
      "cell_type": "code",
      "source": [
        "%%writefile app.py\n",
        "import os\n",
        "import subprocess\n",
        "import threading\n",
        "from flask import Flask, render_template, request\n",
        "import joblib\n",
        "import numpy as np\n",
        "import pandas as pd\n",
        "import datetime\n",
        "from sklearn.preprocessing import PolynomialFeatures\n",
        "from pyngrok import ngrok\n",
        "\n",
        "threshold_value = 0.5\n",
        "app = Flask(__name__)\n",
        "\n",
        "# Create the HTML file\n",
        "html_content = \"\"\"\n",
        "<!DOCTYPE html>\n",
        "<html lang=\"en\">\n",
        "<head>\n",
        "    <meta charset=\"UTF-8\">\n",
        "    <meta name=\"viewport\" content=\"width=device-width, initial-scale=1.0\">\n",
        "    <title>Hotel Booking Prediction</title>\n",
        "    <style>\n",
        "        body {\n",
        "            font-family: Arial, sans-serif;\n",
        "            margin: 0;\n",
        "            padding: 20px;\n",
        "            background-color: #f4f4f4;\n",
        "        }\n",
        "        .container {\n",
        "            max-width: 600px;\n",
        "            margin: auto;\n",
        "            background: #fff;\n",
        "            padding: 20px;\n",
        "            border-radius: 8px;\n",
        "            box-shadow: 0 0 10px rgba(0, 0, 0, 0.1);\n",
        "        }\n",
        "        h2 {\n",
        "            text-align: center;\n",
        "        }\n",
        "        label {\n",
        "            margin-top: 10px;\n",
        "            display: block;\n",
        "        }\n",
        "        input[type=\"text\"], input[type=\"number\"], select {\n",
        "            width: 100%;\n",
        "            padding: 8px;\n",
        "            margin: 5px 0;\n",
        "            border: 1px solid #ccc;\n",
        "            border-radius: 4px;\n",
        "        }\n",
        "        input[type=\"submit\"] {\n",
        "            background-color: #28a745;\n",
        "            color: white;\n",
        "            border: none;\n",
        "            border-radius: 4px;\n",
        "            padding: 10px;\n",
        "            cursor: pointer;\n",
        "        }\n",
        "        input[type=\"submit\"]:hover {\n",
        "            background-color: #218838;\n",
        "        }\n",
        "        .result, .error {\n",
        "            margin-top: 20px;\n",
        "            padding: 10px;\n",
        "            border-radius: 4px;\n",
        "        }\n",
        "        .result {\n",
        "            background-color: #e7fce7;\n",
        "            border: 1px solid #c3e6c3;\n",
        "        }\n",
        "        .error {\n",
        "            background-color: #f8d7da;\n",
        "            border: 1px solid #f5c6cb;\n",
        "        }\n",
        "    </style>\n",
        "</head>\n",
        "<body>\n",
        "    <div class=\"container\">\n",
        "        <h2>Hotel Booking Cancellation Prediction</h2>\n",
        "        <form method=\"POST\">\n",
        "            <label for=\"adults\">Number of Adults:</label>\n",
        "            <input type=\"number\" name=\"adults\" required>\n",
        "\n",
        "            <label for=\"children\">Number of Children:</label>\n",
        "            <input type=\"number\" name=\"children\" required>\n",
        "\n",
        "            <label for=\"weekend_nights\">Number of Weekend Nights:</label>\n",
        "            <input type=\"number\" name=\"weekend_nights\" required>\n",
        "\n",
        "            <label for=\"week_nights\">Number of Week Nights:</label>\n",
        "            <input type=\"number\" name=\"week_nights\" required>\n",
        "\n",
        "            <label for=\"meal_type\">Meal Type:</label>\n",
        "            <select name=\"meal_type\" required>\n",
        "                <option value=\"Not Selected\">Not Selected</option>\n",
        "                <option value=\"Meal Plan 1\">Meal Plan 1</option>\n",
        "                <option value=\"Meal Plan 2\">Meal Plan 2</option>\n",
        "                <option value=\"Meal Plan 3\">Meal Plan 3</option>\n",
        "            </select>\n",
        "\n",
        "            <label for=\"parking\">Parking:</label>\n",
        "            <input type=\"number\" name=\"parking\" required>\n",
        "\n",
        "            <label for=\"room_type\">Room Type:</label>\n",
        "            <select name=\"room_type\" required>\n",
        "                <option value=\"Room_Type 1\">Room Type 1</option>\n",
        "                <option value=\"Room_Type 2\">Room Type 2</option>\n",
        "                <option value=\"Room_Type 3\">Room Type 3</option>\n",
        "                <option value=\"Room_Type 4\">Room Type 4</option>\n",
        "                <option value=\"Room_Type 5\">Room Type 5</option>\n",
        "                <option value=\"Room_Type 6\">Room Type 6</option>\n",
        "                <option value=\"Room_Type 7\">Room Type 7</option>\n",
        "            </select>\n",
        "\n",
        "            <label for=\"lead_time\">Lead Time:</label>\n",
        "            <input type=\"number\" name=\"lead_time\" required>\n",
        "\n",
        "            <label for=\"market_segment\">Market Segment:</label>\n",
        "            <select name=\"market_segment\" required>\n",
        "                <option value=\"Online\">Online</option>\n",
        "                <option value=\"Offline\">Offline</option>\n",
        "                <option value=\"Corporate\">Corporate</option>\n",
        "                <option value=\"Affiliation\">Affiliation</option>\n",
        "                <option value=\"Complementary\">Complementary</option>\n",
        "            </select>\n",
        "\n",
        "            <label for=\"repeated\">Repeated Guest (1 for Yes, 0 for No):</label>\n",
        "            <input type=\"number\" name=\"repeated\" min=\"0\" max=\"1\" required>\n",
        "\n",
        "            <label for=\"p_c\">Probability of Cancellation:</label>\n",
        "            <input type=\"text\" name=\"p_c\" required>\n",
        "\n",
        "            <label for=\"p_not_c\">Probability of Not Cancellation:</label>\n",
        "            <input type=\"text\" name=\"p_not_c\" required>\n",
        "\n",
        "            <label for=\"price\">Price:</label>\n",
        "            <input type=\"text\" name=\"price\" required>\n",
        "\n",
        "            <label for=\"special_requests\">Special Requests:</label>\n",
        "            <input type=\"number\" name=\"special_requests\" required>\n",
        "\n",
        "            <input type=\"submit\" value=\"Predict\">\n",
        "        </form>\n",
        "\n",
        "        {% if result %}\n",
        "        <div class=\"result\">\n",
        "            <h3>Prediction Results:</h3>\n",
        "            <p><strong>Timestamp:</strong> {{ result['Timestamp'] }}</p>\n",
        "            <p><strong>User Inputs:</strong></p>\n",
        "            <ul>\n",
        "                {% for key, value in result['Input'].items() %}\n",
        "                    <li><strong>{{ key }}:</strong> {{ value }}</li>\n",
        "                {% endfor %}\n",
        "            </ul>\n",
        "            <p><strong>Booking Cancellation Prediction:</strong>\n",
        "                {% if result['Cancellation Prediction'] == 'Likely to Cancel' %}\n",
        "                    Likely to Cancel\n",
        "                {% else %}\n",
        "                    Not Likely to Cancel\n",
        "                {% endif %}\n",
        "            </p>\n",
        "        </div>\n",
        "        {% endif %}\n",
        "        {% if error %}\n",
        "        <div class=\"error\">\n",
        "            <strong>Error:</strong> {{ error }}\n",
        "        </div>\n",
        "        {% endif %}\n",
        "    </div>\n",
        "</body>\n",
        "</html>\n",
        "\"\"\"\n",
        "\n",
        "# Write the HTML content to the index.html file\n",
        "with open(\"templates/index.html\", \"w\") as html_file:\n",
        "    html_file.write(html_content)\n",
        "\n",
        "# Function to start ngrok tunnel\n",
        "def start_ngrok():\n",
        "    public_url = ngrok.connect(5001)\n",
        "    print(f\" * Ngrok Tunnel: {public_url}\")\n",
        "\n",
        "ngrok_thread = threading.Thread(target=start_ngrok, daemon=True)\n",
        "ngrok_thread.start()\n",
        "\n",
        "# Load trained models (ensure the model paths are correct)\n",
        "model_folder = \"saved_models\"\n",
        "linear_model = joblib.load(os.path.join(model_folder, \"linear_regression.pkl\"))\n",
        "logistic_model = joblib.load(os.path.join(model_folder, \"logistic_regression.pkl\"))\n",
        "poly_models = {d: joblib.load(os.path.join(model_folder, f\"poly_linear_d{d}.pkl\")) for d in [2, 3, 4]}\n",
        "poly_logistic_models = {d: joblib.load(os.path.join(model_folder, f\"poly_logistic_d{d}.pkl\")) for d in [2, 3, 4]}\n",
        "knn_models = {k: joblib.load(os.path.join(model_folder, f\"knn_k{k}.pkl\")) for k in [3, 5, 7, 9, 11]}\n",
        "\n",
        "# Mapping categorical inputs\n",
        "meal_mapping = {\"Not Selected\": 0, \"Meal Plan 1\": 1, \"Meal Plan 2\": 2, \"Meal Plan 3\": 3}\n",
        "room_mapping = {f\"Room_Type {i}\": i - 1 for i in range(1, 8)}\n",
        "market_mapping = {\"Online\": 0, \"Offline\": 1, \"Corporate\": 2, \"Affiliation\": 3, \"Complementary\": 4}\n",
        "\n",
        "@app.route(\"/\", methods=[\"GET\", \"POST\"])\n",
        "def home():\n",
        "    if request.method == \"POST\":\n",
        "        try:\n",
        "            # Collect input from form\n",
        "            user_input = {\n",
        "                \"adults\": int(request.form[\"adults\"]),\n",
        "                \"children\": int(request.form[\"children\"]),\n",
        "                \"weekend_nights\": int(request.form[\"weekend_nights\"]),\n",
        "                \"week_nights\": int(request.form[\"week_nights\"]),\n",
        "                \"meal_type\": meal_mapping[request.form[\"meal_type\"]],\n",
        "                \"parking\": int(request.form[\"parking\"]),\n",
        "                \"room_type\": room_mapping[request.form[\"room_type\"]],\n",
        "                \"lead_time\": int(request.form[\"lead_time\"]),\n",
        "                \"market_segment\": market_mapping[request.form[\"market_segment\"]],\n",
        "                \"repeated\": int(request.form[\"repeated\"]),\n",
        "                \"p_c\": float(request.form[\"p_c\"]),\n",
        "                \"p_not_c\": float(request.form[\"p_not_c\"]),\n",
        "                \"price\": float(request.form[\"price\"]),\n",
        "                \"special_requests\": int(request.form[\"special_requests\"])\n",
        "            }\n",
        "\n",
        "            # Convert user input to numpy array for prediction\n",
        "            input_array = np.array(list(user_input.values())).reshape(1, -1)\n",
        "\n",
        "            # Make predictions\n",
        "            linear_pred = linear_model.predict(input_array)[0]\n",
        "            logistic_pred = logistic_model.predict(input_array)[0]\n",
        "            poly_preds = {d: poly_models[d].predict(PolynomialFeatures(degree=d).fit_transform(input_array))[0] for d in [2, 3, 4]}\n",
        "            poly_logistic_preds = {d: poly_logistic_models[d].predict(PolynomialFeatures(degree=d).fit_transform(input_array))[0] for d in [2, 3, 4]}\n",
        "            knn_preds = {k: knn_models[k].predict(input_array)[0] for k in [3, 5, 7, 9, 11]}\n",
        "\n",
        "            # Combine all predictions into a list\n",
        "            all_predictions = [linear_pred, logistic_pred] + list(poly_preds.values()) + list(poly_logistic_preds.values()) + list(knn_preds.values())\n",
        "\n",
        "            # Find the largest prediction value\n",
        "            largest_prediction = max(all_predictions)\n",
        "\n",
        "            # Determine cancellation prediction based on the largest value\n",
        "            cancellation_prediction = 'Likely to Cancel' if largest_prediction > threshold_value else 'Not Likely to Cancel'\n",
        "\n",
        "            # Save results to CSV\n",
        "            timestamp = datetime.datetime.now().strftime(\"%Y-%m-%d %H:%M:%S\")\n",
        "            results = {\n",
        "                \"Timestamp\": timestamp,\n",
        "                \"Input\": user_input,\n",
        "                \"Cancellation Prediction\": cancellation_prediction\n",
        "            }\n",
        "            df = pd.DataFrame([results])\n",
        "            df.to_csv(\"predictions_log.csv\", mode=\"a\", header=False, index=False)\n",
        "\n",
        "            # Return results with input\n",
        "            return render_template(\"index.html\", result=results)\n",
        "\n",
        "        except Exception as e:\n",
        "            return render_template(\"index.html\", error=str(e))\n",
        "\n",
        "    return render_template(\"index.html\", result=None)\n",
        "\n",
        "if __name__ == \"__main__\":\n",
        "    app.run(port=5001)"
      ],
      "metadata": {
        "colab": {
          "base_uri": "https://localhost:8080/"
        },
        "id": "LUxkBVzL1L2D",
        "outputId": "a356e615-4b26-4c3b-bd54-84117c0a90cc"
      },
      "execution_count": 74,
      "outputs": [
        {
          "output_type": "stream",
          "name": "stdout",
          "text": [
            "Overwriting app.py\n"
          ]
        }
      ]
    },
    {
      "cell_type": "code",
      "execution_count": 65,
      "metadata": {
        "id": "fQJ-EiygSrKY"
      },
      "outputs": [],
      "source": [
        "os.makedirs(\"templates\", exist_ok=True)"
      ]
    },
    {
      "cell_type": "markdown",
      "source": [
        "\n",
        "\n",
        "---\n",
        "* running the app :\n",
        "---\n",
        "\n"
      ],
      "metadata": {
        "id": "DLRkbJC6BDDi"
      }
    },
    {
      "cell_type": "code",
      "source": [
        "!python app.py"
      ],
      "metadata": {
        "colab": {
          "base_uri": "https://localhost:8080/"
        },
        "id": "1FAEoI3AXXmI",
        "outputId": "63f78b1a-9a77-4209-8339-82d6dfc2758f"
      },
      "execution_count": null,
      "outputs": [
        {
          "output_type": "stream",
          "name": "stdout",
          "text": [
            " * Serving Flask app 'app'\n",
            " * Debug mode: off\n",
            "\u001b[31m\u001b[1mWARNING: This is a development server. Do not use it in a production deployment. Use a production WSGI server instead.\u001b[0m\n",
            " * Running on http://127.0.0.1:5001\n",
            "\u001b[33mPress CTRL+C to quit\u001b[0m\n",
            " * Ngrok Tunnel: NgrokTunnel: \"https://bed6-34-80-222-204.ngrok-free.app\" -> \"http://localhost:5001\"\n",
            "127.0.0.1 - - [20/Feb/2025 20:09:09] \"GET / HTTP/1.1\" 200 -\n",
            "127.0.0.1 - - [20/Feb/2025 20:09:10] \"\u001b[33mGET /favicon.ico HTTP/1.1\u001b[0m\" 404 -\n",
            "127.0.0.1 - - [20/Feb/2025 20:18:41] \"GET / HTTP/1.1\" 200 -\n"
          ]
        }
      ]
    }
  ],
  "metadata": {
    "colab": {
      "provenance": []
    },
    "kernelspec": {
      "display_name": "Python 3",
      "name": "python3"
    },
    "language_info": {
      "name": "python"
    }
  },
  "nbformat": 4,
  "nbformat_minor": 0
}